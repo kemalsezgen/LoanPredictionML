{
  "nbformat": 4,
  "nbformat_minor": 0,
  "metadata": {
    "kernelspec": {
      "display_name": "Python 3",
      "language": "python",
      "name": "python3"
    },
    "language_info": {
      "codemirror_mode": {
        "name": "ipython",
        "version": 3
      },
      "file_extension": ".py",
      "mimetype": "text/x-python",
      "name": "python",
      "nbconvert_exporter": "python",
      "pygments_lexer": "ipython3",
      "version": "3.7.0"
    },
    "colab": {
      "name": "Loan-Prediction .ipynb",
      "provenance": []
    }
  },
  "cells": [
    {
      "cell_type": "code",
      "metadata": {
        "colab": {
          "base_uri": "https://localhost:8080/"
        },
        "id": "Hatv35s6zTK7",
        "outputId": "76064c0d-2ceb-4571-fa03-00650492d3c0"
      },
      "source": [
        "from google.colab import drive\n",
        "drive.mount(\"/content/drive\")"
      ],
      "execution_count": null,
      "outputs": [
        {
          "output_type": "stream",
          "text": [
            "Mounted at /content/drive\n"
          ],
          "name": "stdout"
        }
      ]
    },
    {
      "cell_type": "code",
      "metadata": {
        "colab": {
          "resources": {
            "http://localhost:8080/nbextensions/google.colab/files.js": {
              "data": "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",
              "ok": true,
              "headers": [
                [
                  "content-type",
                  "application/javascript"
                ]
              ],
              "status": 200,
              "status_text": ""
            }
          },
          "base_uri": "https://localhost:8080/",
          "height": 90
        },
        "id": "KtHbP4oWzS8s",
        "outputId": "4652a35c-fa58-4097-b97b-61521a3f7fad"
      },
      "source": [
        "from google.colab import files\n",
        "uploaded=files.upload()"
      ],
      "execution_count": null,
      "outputs": [
        {
          "output_type": "display_data",
          "data": {
            "text/html": [
              "\n",
              "     <input type=\"file\" id=\"files-c93df96d-5a4b-468e-9c7b-3e4879bc1e98\" name=\"files[]\" multiple disabled\n",
              "        style=\"border:none\" />\n",
              "     <output id=\"result-c93df96d-5a4b-468e-9c7b-3e4879bc1e98\">\n",
              "      Upload widget is only available when the cell has been executed in the\n",
              "      current browser session. Please rerun this cell to enable.\n",
              "      </output>\n",
              "      <script src=\"/nbextensions/google.colab/files.js\"></script> "
            ],
            "text/plain": [
              "<IPython.core.display.HTML object>"
            ]
          },
          "metadata": {
            "tags": []
          }
        },
        {
          "output_type": "stream",
          "text": [
            "Saving LoansTrainingSet.csv to LoansTrainingSet.csv\n"
          ],
          "name": "stdout"
        }
      ]
    },
    {
      "cell_type": "code",
      "metadata": {
        "id": "daerueIFzQQi"
      },
      "source": [
        "import pandas as pd\n",
        "import matplotlib.pyplot as plt\n",
        "%matplotlib inline\n",
        "import seaborn as sns\n",
        "import warnings\n",
        "warnings.filterwarnings(\"ignore\")\n",
        "from sklearn.metrics import confusion_matrix\n",
        "from sklearn.metrics import plot_confusion_matrix"
      ],
      "execution_count": null,
      "outputs": []
    },
    {
      "cell_type": "code",
      "metadata": {
        "id": "BXaWN-0QzQQl"
      },
      "source": [
        "df = pd.read_csv(\"LoansTrainingSet.csv\")"
      ],
      "execution_count": null,
      "outputs": []
    },
    {
      "cell_type": "code",
      "metadata": {
        "colab": {
          "base_uri": "https://localhost:8080/",
          "height": 518
        },
        "id": "WysYxTtIzQQm",
        "outputId": "b17ca160-8047-458f-94a3-2c9438a9c669"
      },
      "source": [
        "df.head()"
      ],
      "execution_count": null,
      "outputs": [
        {
          "output_type": "execute_result",
          "data": {
            "text/html": [
              "<div>\n",
              "<style scoped>\n",
              "    .dataframe tbody tr th:only-of-type {\n",
              "        vertical-align: middle;\n",
              "    }\n",
              "\n",
              "    .dataframe tbody tr th {\n",
              "        vertical-align: top;\n",
              "    }\n",
              "\n",
              "    .dataframe thead th {\n",
              "        text-align: right;\n",
              "    }\n",
              "</style>\n",
              "<table border=\"1\" class=\"dataframe\">\n",
              "  <thead>\n",
              "    <tr style=\"text-align: right;\">\n",
              "      <th></th>\n",
              "      <th>Loan ID</th>\n",
              "      <th>Customer ID</th>\n",
              "      <th>Loan Status</th>\n",
              "      <th>Current Loan Amount</th>\n",
              "      <th>Term</th>\n",
              "      <th>Credit Score</th>\n",
              "      <th>Years in current job</th>\n",
              "      <th>Home Ownership</th>\n",
              "      <th>Annual Income</th>\n",
              "      <th>Purpose</th>\n",
              "      <th>Monthly Debt</th>\n",
              "      <th>Years of Credit History</th>\n",
              "      <th>Months since last delinquent</th>\n",
              "      <th>Number of Open Accounts</th>\n",
              "      <th>Number of Credit Problems</th>\n",
              "      <th>Current Credit Balance</th>\n",
              "      <th>Maximum Open Credit</th>\n",
              "      <th>Bankruptcies</th>\n",
              "      <th>Tax Liens</th>\n",
              "    </tr>\n",
              "  </thead>\n",
              "  <tbody>\n",
              "    <tr>\n",
              "      <th>0</th>\n",
              "      <td>000025bb-5694-4cff-b17d-192b1a98ba44</td>\n",
              "      <td>5ebc8bb1-5eb9-4404-b11b-a6eebc401a19</td>\n",
              "      <td>Fully Paid</td>\n",
              "      <td>11520</td>\n",
              "      <td>Short Term</td>\n",
              "      <td>741.0</td>\n",
              "      <td>10+ years</td>\n",
              "      <td>Home Mortgage</td>\n",
              "      <td>33694.0</td>\n",
              "      <td>Debt Consolidation</td>\n",
              "      <td>$584.03</td>\n",
              "      <td>12.3</td>\n",
              "      <td>41.0</td>\n",
              "      <td>10</td>\n",
              "      <td>0</td>\n",
              "      <td>6760</td>\n",
              "      <td>16056</td>\n",
              "      <td>0.0</td>\n",
              "      <td>0.0</td>\n",
              "    </tr>\n",
              "    <tr>\n",
              "      <th>1</th>\n",
              "      <td>00002c49-3a29-4bd4-8f67-c8f8fbc1048c</td>\n",
              "      <td>927b388d-2e01-423f-a8dc-f7e42d668f46</td>\n",
              "      <td>Fully Paid</td>\n",
              "      <td>3441</td>\n",
              "      <td>Short Term</td>\n",
              "      <td>734.0</td>\n",
              "      <td>4 years</td>\n",
              "      <td>Home Mortgage</td>\n",
              "      <td>42269.0</td>\n",
              "      <td>other</td>\n",
              "      <td>$1,106.04</td>\n",
              "      <td>26.3</td>\n",
              "      <td>NaN</td>\n",
              "      <td>17</td>\n",
              "      <td>0</td>\n",
              "      <td>6262</td>\n",
              "      <td>19149</td>\n",
              "      <td>0.0</td>\n",
              "      <td>0.0</td>\n",
              "    </tr>\n",
              "    <tr>\n",
              "      <th>2</th>\n",
              "      <td>00002d89-27f3-409b-aa76-90834f359a65</td>\n",
              "      <td>defce609-c631-447d-aad6-1270615e89c4</td>\n",
              "      <td>Fully Paid</td>\n",
              "      <td>21029</td>\n",
              "      <td>Short Term</td>\n",
              "      <td>747.0</td>\n",
              "      <td>10+ years</td>\n",
              "      <td>Home Mortgage</td>\n",
              "      <td>90126.0</td>\n",
              "      <td>Debt Consolidation</td>\n",
              "      <td>$1,321.85</td>\n",
              "      <td>28.8</td>\n",
              "      <td>NaN</td>\n",
              "      <td>5</td>\n",
              "      <td>0</td>\n",
              "      <td>20967</td>\n",
              "      <td>28335</td>\n",
              "      <td>0.0</td>\n",
              "      <td>0.0</td>\n",
              "    </tr>\n",
              "    <tr>\n",
              "      <th>3</th>\n",
              "      <td>00005222-b4d8-45a4-ad8c-186057e24233</td>\n",
              "      <td>070bcecb-aae7-4485-a26a-e0403e7bb6c5</td>\n",
              "      <td>Fully Paid</td>\n",
              "      <td>18743</td>\n",
              "      <td>Short Term</td>\n",
              "      <td>747.0</td>\n",
              "      <td>10+ years</td>\n",
              "      <td>Own Home</td>\n",
              "      <td>38072.0</td>\n",
              "      <td>Debt Consolidation</td>\n",
              "      <td>$751.92</td>\n",
              "      <td>26.2</td>\n",
              "      <td>NaN</td>\n",
              "      <td>9</td>\n",
              "      <td>0</td>\n",
              "      <td>22529</td>\n",
              "      <td>43915</td>\n",
              "      <td>0.0</td>\n",
              "      <td>0.0</td>\n",
              "    </tr>\n",
              "    <tr>\n",
              "      <th>4</th>\n",
              "      <td>0000757f-a121-41ed-b17b-162e76647c1f</td>\n",
              "      <td>dde79588-12f0-4811-bab0-e2b07f633fcd</td>\n",
              "      <td>Fully Paid</td>\n",
              "      <td>11731</td>\n",
              "      <td>Short Term</td>\n",
              "      <td>746.0</td>\n",
              "      <td>4 years</td>\n",
              "      <td>Rent</td>\n",
              "      <td>50025.0</td>\n",
              "      <td>Debt Consolidation</td>\n",
              "      <td>$355.18</td>\n",
              "      <td>11.5</td>\n",
              "      <td>NaN</td>\n",
              "      <td>12</td>\n",
              "      <td>0</td>\n",
              "      <td>17391</td>\n",
              "      <td>37081</td>\n",
              "      <td>0.0</td>\n",
              "      <td>0.0</td>\n",
              "    </tr>\n",
              "  </tbody>\n",
              "</table>\n",
              "</div>"
            ],
            "text/plain": [
              "                                Loan ID  ... Tax Liens\n",
              "0  000025bb-5694-4cff-b17d-192b1a98ba44  ...       0.0\n",
              "1  00002c49-3a29-4bd4-8f67-c8f8fbc1048c  ...       0.0\n",
              "2  00002d89-27f3-409b-aa76-90834f359a65  ...       0.0\n",
              "3  00005222-b4d8-45a4-ad8c-186057e24233  ...       0.0\n",
              "4  0000757f-a121-41ed-b17b-162e76647c1f  ...       0.0\n",
              "\n",
              "[5 rows x 19 columns]"
            ]
          },
          "metadata": {
            "tags": []
          },
          "execution_count": 5
        }
      ]
    },
    {
      "cell_type": "code",
      "metadata": {
        "colab": {
          "base_uri": "https://localhost:8080/",
          "height": 501
        },
        "id": "hD2PQ4srzQQn",
        "outputId": "6b803252-6f50-4676-90a3-cf6d5186eed6"
      },
      "source": [
        "df.tail()"
      ],
      "execution_count": null,
      "outputs": [
        {
          "output_type": "execute_result",
          "data": {
            "text/html": [
              "<div>\n",
              "<style scoped>\n",
              "    .dataframe tbody tr th:only-of-type {\n",
              "        vertical-align: middle;\n",
              "    }\n",
              "\n",
              "    .dataframe tbody tr th {\n",
              "        vertical-align: top;\n",
              "    }\n",
              "\n",
              "    .dataframe thead th {\n",
              "        text-align: right;\n",
              "    }\n",
              "</style>\n",
              "<table border=\"1\" class=\"dataframe\">\n",
              "  <thead>\n",
              "    <tr style=\"text-align: right;\">\n",
              "      <th></th>\n",
              "      <th>Loan ID</th>\n",
              "      <th>Customer ID</th>\n",
              "      <th>Loan Status</th>\n",
              "      <th>Current Loan Amount</th>\n",
              "      <th>Term</th>\n",
              "      <th>Credit Score</th>\n",
              "      <th>Years in current job</th>\n",
              "      <th>Home Ownership</th>\n",
              "      <th>Annual Income</th>\n",
              "      <th>Purpose</th>\n",
              "      <th>Monthly Debt</th>\n",
              "      <th>Years of Credit History</th>\n",
              "      <th>Months since last delinquent</th>\n",
              "      <th>Number of Open Accounts</th>\n",
              "      <th>Number of Credit Problems</th>\n",
              "      <th>Current Credit Balance</th>\n",
              "      <th>Maximum Open Credit</th>\n",
              "      <th>Bankruptcies</th>\n",
              "      <th>Tax Liens</th>\n",
              "    </tr>\n",
              "  </thead>\n",
              "  <tbody>\n",
              "    <tr>\n",
              "      <th>256979</th>\n",
              "      <td>fffef5b7-be99-4666-ac70-2a397d2ee435</td>\n",
              "      <td>7211a8e3-cba4-4132-b939-222eed8a662c</td>\n",
              "      <td>Fully Paid</td>\n",
              "      <td>3911</td>\n",
              "      <td>Short Term</td>\n",
              "      <td>NaN</td>\n",
              "      <td>2 years</td>\n",
              "      <td>Rent</td>\n",
              "      <td>NaN</td>\n",
              "      <td>Debt Consolidation</td>\n",
              "      <td>$1,706.58</td>\n",
              "      <td>19.9</td>\n",
              "      <td>NaN</td>\n",
              "      <td>16</td>\n",
              "      <td>0</td>\n",
              "      <td>43992</td>\n",
              "      <td>44080</td>\n",
              "      <td>0.0</td>\n",
              "      <td>0.0</td>\n",
              "    </tr>\n",
              "    <tr>\n",
              "      <th>256980</th>\n",
              "      <td>ffffca93-aa8c-4123-b8ff-7852f6df889a</td>\n",
              "      <td>616fef0c-8f09-4327-9b5c-48fcfaa52934</td>\n",
              "      <td>Fully Paid</td>\n",
              "      <td>5078</td>\n",
              "      <td>Short Term</td>\n",
              "      <td>737.0</td>\n",
              "      <td>10+ years</td>\n",
              "      <td>Own Home</td>\n",
              "      <td>77186.0</td>\n",
              "      <td>Debt Consolidation</td>\n",
              "      <td>$1,376.47</td>\n",
              "      <td>19.1</td>\n",
              "      <td>47.0</td>\n",
              "      <td>9</td>\n",
              "      <td>0</td>\n",
              "      <td>1717</td>\n",
              "      <td>9758</td>\n",
              "      <td>0.0</td>\n",
              "      <td>0.0</td>\n",
              "    </tr>\n",
              "    <tr>\n",
              "      <th>256981</th>\n",
              "      <td>ffffcb2e-e48e-4d2c-a0d6-ed6bce5bfdbe</td>\n",
              "      <td>971a6682-183b-4a52-8bce-1d3429ade295</td>\n",
              "      <td>Charged Off</td>\n",
              "      <td>12116</td>\n",
              "      <td>Short Term</td>\n",
              "      <td>7460.0</td>\n",
              "      <td>9 years</td>\n",
              "      <td>Home Mortgage</td>\n",
              "      <td>52504.0</td>\n",
              "      <td>Debt Consolidation</td>\n",
              "      <td>$297.96</td>\n",
              "      <td>15.1</td>\n",
              "      <td>82.0</td>\n",
              "      <td>8</td>\n",
              "      <td>0</td>\n",
              "      <td>3315</td>\n",
              "      <td>20090</td>\n",
              "      <td>0.0</td>\n",
              "      <td>0.0</td>\n",
              "    </tr>\n",
              "    <tr>\n",
              "      <th>256982</th>\n",
              "      <td>ffffcb2e-e48e-4d2c-a0d6-ed6bce5bfdbe</td>\n",
              "      <td>971a6682-183b-4a52-8bce-1d3429ade295</td>\n",
              "      <td>Charged Off</td>\n",
              "      <td>12116</td>\n",
              "      <td>Short Term</td>\n",
              "      <td>746.0</td>\n",
              "      <td>9 years</td>\n",
              "      <td>Home Mortgage</td>\n",
              "      <td>52504.0</td>\n",
              "      <td>Debt Consolidation</td>\n",
              "      <td>$297.96</td>\n",
              "      <td>15.1</td>\n",
              "      <td>82.0</td>\n",
              "      <td>8</td>\n",
              "      <td>0</td>\n",
              "      <td>3315</td>\n",
              "      <td>20090</td>\n",
              "      <td>0.0</td>\n",
              "      <td>0.0</td>\n",
              "    </tr>\n",
              "    <tr>\n",
              "      <th>256983</th>\n",
              "      <td>ffffe32e-ed17-459f-9cfd-7b9ee7972933</td>\n",
              "      <td>97281336-1e45-41d2-acb2-263ce56a590e</td>\n",
              "      <td>Fully Paid</td>\n",
              "      <td>27902</td>\n",
              "      <td>Long Term</td>\n",
              "      <td>678.0</td>\n",
              "      <td>10+ years</td>\n",
              "      <td>Home Mortgage</td>\n",
              "      <td>117480.0</td>\n",
              "      <td>Debt Consolidation</td>\n",
              "      <td>$2,525.82</td>\n",
              "      <td>18.0</td>\n",
              "      <td>11.0</td>\n",
              "      <td>10</td>\n",
              "      <td>0</td>\n",
              "      <td>28317</td>\n",
              "      <td>62371</td>\n",
              "      <td>0.0</td>\n",
              "      <td>0.0</td>\n",
              "    </tr>\n",
              "  </tbody>\n",
              "</table>\n",
              "</div>"
            ],
            "text/plain": [
              "                                     Loan ID  ... Tax Liens\n",
              "256979  fffef5b7-be99-4666-ac70-2a397d2ee435  ...       0.0\n",
              "256980  ffffca93-aa8c-4123-b8ff-7852f6df889a  ...       0.0\n",
              "256981  ffffcb2e-e48e-4d2c-a0d6-ed6bce5bfdbe  ...       0.0\n",
              "256982  ffffcb2e-e48e-4d2c-a0d6-ed6bce5bfdbe  ...       0.0\n",
              "256983  ffffe32e-ed17-459f-9cfd-7b9ee7972933  ...       0.0\n",
              "\n",
              "[5 rows x 19 columns]"
            ]
          },
          "metadata": {
            "tags": []
          },
          "execution_count": 6
        }
      ]
    },
    {
      "cell_type": "code",
      "metadata": {
        "id": "YyZpebWWzQQn"
      },
      "source": [
        "def CategoricalaCevir(DataFrame,  CategoryLabel):\n",
        "    DataFrame[CategoryLabel] = DataFrame[CategoryLabel].astype(\"category\")\n",
        "\n",
        "def NumerigeCevir(DataFrame,  CategoryLabel):\n",
        "    DataFrame[CategoryLabel] = DataFrame[CategoryLabel].astype(\"float\")\n",
        "\n",
        "def TypeAyarla(DataFrame,  CategoryLabel, TypeName):\n",
        "    DataFrame[CategoryLabel] = DataFrame[CategoryLabel].astype(TypeName)"
      ],
      "execution_count": null,
      "outputs": []
    },
    {
      "cell_type": "code",
      "metadata": {
        "colab": {
          "base_uri": "https://localhost:8080/"
        },
        "id": "0YjenJDwzQQo",
        "outputId": "d51405da-cd3c-49d2-f10f-b44f4f25add9"
      },
      "source": [
        "df.info()"
      ],
      "execution_count": null,
      "outputs": [
        {
          "output_type": "stream",
          "text": [
            "<class 'pandas.core.frame.DataFrame'>\n",
            "RangeIndex: 256984 entries, 0 to 256983\n",
            "Data columns (total 19 columns):\n",
            " #   Column                        Non-Null Count   Dtype  \n",
            "---  ------                        --------------   -----  \n",
            " 0   Loan ID                       256984 non-null  object \n",
            " 1   Customer ID                   256984 non-null  object \n",
            " 2   Loan Status                   256984 non-null  object \n",
            " 3   Current Loan Amount           256984 non-null  int64  \n",
            " 4   Term                          256984 non-null  object \n",
            " 5   Credit Score                  195308 non-null  float64\n",
            " 6   Years in current job          245508 non-null  object \n",
            " 7   Home Ownership                256984 non-null  object \n",
            " 8   Annual Income                 195308 non-null  float64\n",
            " 9   Purpose                       256984 non-null  object \n",
            " 10  Monthly Debt                  256984 non-null  object \n",
            " 11  Years of Credit History       256984 non-null  float64\n",
            " 12  Months since last delinquent  116601 non-null  float64\n",
            " 13  Number of Open Accounts       256984 non-null  int64  \n",
            " 14  Number of Credit Problems     256984 non-null  int64  \n",
            " 15  Current Credit Balance        256984 non-null  int64  \n",
            " 16  Maximum Open Credit           256984 non-null  object \n",
            " 17  Bankruptcies                  256455 non-null  float64\n",
            " 18  Tax Liens                     256961 non-null  float64\n",
            "dtypes: float64(6), int64(4), object(9)\n",
            "memory usage: 37.3+ MB\n"
          ],
          "name": "stdout"
        }
      ]
    },
    {
      "cell_type": "code",
      "metadata": {
        "colab": {
          "base_uri": "https://localhost:8080/"
        },
        "id": "Eb4n796NzQQo",
        "outputId": "b0de113e-8dbe-44bb-c50a-95b6657d5af0"
      },
      "source": [
        "df[\"Loan Status\"].unique()"
      ],
      "execution_count": null,
      "outputs": [
        {
          "output_type": "execute_result",
          "data": {
            "text/plain": [
              "array(['Fully Paid', 'Charged Off'], dtype=object)"
            ]
          },
          "metadata": {
            "tags": []
          },
          "execution_count": 9
        }
      ]
    },
    {
      "cell_type": "code",
      "metadata": {
        "colab": {
          "base_uri": "https://localhost:8080/"
        },
        "id": "EkLkfBt3zQQo",
        "outputId": "9efb4035-9d9c-429a-e196-cad6091eca66"
      },
      "source": [
        "df[\"Term\"].unique()"
      ],
      "execution_count": null,
      "outputs": [
        {
          "output_type": "execute_result",
          "data": {
            "text/plain": [
              "array(['Short Term', 'Long Term'], dtype=object)"
            ]
          },
          "metadata": {
            "tags": []
          },
          "execution_count": 10
        }
      ]
    },
    {
      "cell_type": "code",
      "metadata": {
        "colab": {
          "base_uri": "https://localhost:8080/"
        },
        "id": "GLp8jVmazQQp",
        "outputId": "506fae30-bd8b-47cd-8ef9-d5dbec87fc89"
      },
      "source": [
        "df[\"Credit Score\"].max() # Kredi skoru 800'den büyük olanlar var. Muhtemelen bir \"0\" fazladan yazıldı."
      ],
      "execution_count": null,
      "outputs": [
        {
          "output_type": "execute_result",
          "data": {
            "text/plain": [
              "7510.0"
            ]
          },
          "metadata": {
            "tags": []
          },
          "execution_count": 11
        }
      ]
    },
    {
      "cell_type": "code",
      "metadata": {
        "colab": {
          "base_uri": "https://localhost:8080/"
        },
        "id": "tzLff3tlzQQp",
        "outputId": "40d5f770-dfdd-4d42-b911-961bcb4f0353"
      },
      "source": [
        "df[\"Years in current job\"].unique()"
      ],
      "execution_count": null,
      "outputs": [
        {
          "output_type": "execute_result",
          "data": {
            "text/plain": [
              "array(['10+ years', '4 years', '6 years', '5 years', nan, '3 years',\n",
              "       '2 years', '< 1 year', '1 year', '7 years', '9 years', '8 years'],\n",
              "      dtype=object)"
            ]
          },
          "metadata": {
            "tags": []
          },
          "execution_count": 12
        }
      ]
    },
    {
      "cell_type": "code",
      "metadata": {
        "colab": {
          "base_uri": "https://localhost:8080/"
        },
        "id": "oZmpafMozQQq",
        "outputId": "66185e2c-2e5e-426e-e8ab-3be2274146fa"
      },
      "source": [
        "df[\"Annual Income\"].isnull().sum()"
      ],
      "execution_count": null,
      "outputs": [
        {
          "output_type": "execute_result",
          "data": {
            "text/plain": [
              "61676"
            ]
          },
          "metadata": {
            "tags": []
          },
          "execution_count": 13
        }
      ]
    },
    {
      "cell_type": "code",
      "metadata": {
        "colab": {
          "base_uri": "https://localhost:8080/"
        },
        "id": "5e9wuAhnzQQq",
        "outputId": "fd548b86-98ba-4895-f1b3-42ec74d201b6"
      },
      "source": [
        "df[\"Annual Income\"].median() # Maaş bilgisi girilmeyen müşterilerin maaşını bu değerle doldurabilirim."
      ],
      "execution_count": null,
      "outputs": [
        {
          "output_type": "execute_result",
          "data": {
            "text/plain": [
              "61242.0"
            ]
          },
          "metadata": {
            "tags": []
          },
          "execution_count": 14
        }
      ]
    },
    {
      "cell_type": "code",
      "metadata": {
        "colab": {
          "base_uri": "https://localhost:8080/"
        },
        "id": "UD4F4ujgzQQr",
        "outputId": "280c959c-85d4-404b-f6ce-c1d02844290c"
      },
      "source": [
        "df.isnull().sum().sort_values(ascending=False)"
      ],
      "execution_count": null,
      "outputs": [
        {
          "output_type": "execute_result",
          "data": {
            "text/plain": [
              "Months since last delinquent    140383\n",
              "Credit Score                     61676\n",
              "Annual Income                    61676\n",
              "Years in current job             11476\n",
              "Bankruptcies                       529\n",
              "Tax Liens                           23\n",
              "Home Ownership                       0\n",
              "Customer ID                          0\n",
              "Loan Status                          0\n",
              "Current Loan Amount                  0\n",
              "Term                                 0\n",
              "Purpose                              0\n",
              "Monthly Debt                         0\n",
              "Years of Credit History              0\n",
              "Number of Open Accounts              0\n",
              "Number of Credit Problems            0\n",
              "Current Credit Balance               0\n",
              "Maximum Open Credit                  0\n",
              "Loan ID                              0\n",
              "dtype: int64"
            ]
          },
          "metadata": {
            "tags": []
          },
          "execution_count": 15
        }
      ]
    },
    {
      "cell_type": "code",
      "metadata": {
        "colab": {
          "base_uri": "https://localhost:8080/"
        },
        "id": "fVQ6pERjzQQr",
        "outputId": "533143f9-943b-4200-d118-095c562e04b8"
      },
      "source": [
        "df.info()"
      ],
      "execution_count": null,
      "outputs": [
        {
          "output_type": "stream",
          "text": [
            "<class 'pandas.core.frame.DataFrame'>\n",
            "RangeIndex: 256984 entries, 0 to 256983\n",
            "Data columns (total 19 columns):\n",
            " #   Column                        Non-Null Count   Dtype  \n",
            "---  ------                        --------------   -----  \n",
            " 0   Loan ID                       256984 non-null  object \n",
            " 1   Customer ID                   256984 non-null  object \n",
            " 2   Loan Status                   256984 non-null  object \n",
            " 3   Current Loan Amount           256984 non-null  int64  \n",
            " 4   Term                          256984 non-null  object \n",
            " 5   Credit Score                  195308 non-null  float64\n",
            " 6   Years in current job          245508 non-null  object \n",
            " 7   Home Ownership                256984 non-null  object \n",
            " 8   Annual Income                 195308 non-null  float64\n",
            " 9   Purpose                       256984 non-null  object \n",
            " 10  Monthly Debt                  256984 non-null  object \n",
            " 11  Years of Credit History       256984 non-null  float64\n",
            " 12  Months since last delinquent  116601 non-null  float64\n",
            " 13  Number of Open Accounts       256984 non-null  int64  \n",
            " 14  Number of Credit Problems     256984 non-null  int64  \n",
            " 15  Current Credit Balance        256984 non-null  int64  \n",
            " 16  Maximum Open Credit           256984 non-null  object \n",
            " 17  Bankruptcies                  256455 non-null  float64\n",
            " 18  Tax Liens                     256961 non-null  float64\n",
            "dtypes: float64(6), int64(4), object(9)\n",
            "memory usage: 37.3+ MB\n"
          ],
          "name": "stdout"
        }
      ]
    },
    {
      "cell_type": "markdown",
      "metadata": {
        "id": "vomlDhCUzQQr"
      },
      "source": [
        "### Customer ID"
      ]
    },
    {
      "cell_type": "code",
      "metadata": {
        "id": "XjG5oyHvzQQs"
      },
      "source": [
        "CategoricalaCevir(df, \"Customer ID\")"
      ],
      "execution_count": null,
      "outputs": []
    },
    {
      "cell_type": "code",
      "metadata": {
        "id": "7fzaF00DzQQs"
      },
      "source": [
        "CategoricalaCevir(df, \"Loan ID\")"
      ],
      "execution_count": null,
      "outputs": []
    },
    {
      "cell_type": "markdown",
      "metadata": {
        "id": "5kSzLYBtzQQs"
      },
      "source": [
        "### Loan Status"
      ]
    },
    {
      "cell_type": "code",
      "metadata": {
        "colab": {
          "base_uri": "https://localhost:8080/"
        },
        "id": "NXmodk27zQQs",
        "outputId": "b8b53e65-d432-4bc9-992b-a37220e0c8fd"
      },
      "source": [
        "df[\"Loan Status\"].unique()"
      ],
      "execution_count": null,
      "outputs": [
        {
          "output_type": "execute_result",
          "data": {
            "text/plain": [
              "array(['Fully Paid', 'Charged Off'], dtype=object)"
            ]
          },
          "metadata": {
            "tags": []
          },
          "execution_count": 19
        }
      ]
    },
    {
      "cell_type": "code",
      "metadata": {
        "id": "wYGhq08jzQQt"
      },
      "source": [
        "statu = {\"Fully Paid\":1, \"Charged Off\":0}\n",
        "df[\"Loan Status\"] = df[\"Loan Status\"].map(statu)"
      ],
      "execution_count": null,
      "outputs": []
    },
    {
      "cell_type": "code",
      "metadata": {
        "colab": {
          "base_uri": "https://localhost:8080/"
        },
        "id": "E0D0SuWizQQt",
        "outputId": "dd462a71-c5c3-486d-e2da-d18a3ee5ec80"
      },
      "source": [
        "df[\"Loan Status\"].unique()"
      ],
      "execution_count": null,
      "outputs": [
        {
          "output_type": "execute_result",
          "data": {
            "text/plain": [
              "array([1, 0])"
            ]
          },
          "metadata": {
            "tags": []
          },
          "execution_count": 21
        }
      ]
    },
    {
      "cell_type": "code",
      "metadata": {
        "id": "Mke6omfDzQQt"
      },
      "source": [
        "TypeAyarla(df, \"Loan Status\", \"uint8\")"
      ],
      "execution_count": null,
      "outputs": []
    },
    {
      "cell_type": "markdown",
      "metadata": {
        "id": "1TpwahxVzQQt"
      },
      "source": [
        "### Current Loan Amount"
      ]
    },
    {
      "cell_type": "markdown",
      "metadata": {
        "id": "WtTDXKl3zQQt"
      },
      "source": [
        "999999 değerine sahip veriler olduğunu fark ettikten sonra o verileri inceledim."
      ]
    },
    {
      "cell_type": "code",
      "metadata": {
        "colab": {
          "base_uri": "https://localhost:8080/"
        },
        "id": "GgSzr_zizQQu",
        "outputId": "e0459117-9c21-486b-9c92-580564fc72ef"
      },
      "source": [
        "df[df[\"Current Loan Amount\"] >= 99999999][\"Loan Status\"].count()"
      ],
      "execution_count": null,
      "outputs": [
        {
          "output_type": "execute_result",
          "data": {
            "text/plain": [
              "35210"
            ]
          },
          "metadata": {
            "tags": []
          },
          "execution_count": 23
        }
      ]
    },
    {
      "cell_type": "markdown",
      "metadata": {
        "id": "fEPncVTRzQQu"
      },
      "source": [
        "35210 müşterinin Current Loan Amount değeri 999999 girilmiş. Bunun neyi temsil ettiğini anlayamasam da bir şekilde göze yanlış geldiği için bu müşterilerin 999999 değerini, diğer müşterilerin ortalama değerleri ile değiştirdim."
      ]
    },
    {
      "cell_type": "code",
      "metadata": {
        "id": "GltB6sqDzQQu"
      },
      "source": [
        "degistirme = df[df[\"Current Loan Amount\"] < 1.5e7][\"Current Loan Amount\"].median()\n",
        "df[\"Current Loan Amount\"] = df[\"Current Loan Amount\"].apply(lambda x : degistirme if x >= 99999999 else x)"
      ],
      "execution_count": null,
      "outputs": []
    },
    {
      "cell_type": "code",
      "metadata": {
        "colab": {
          "base_uri": "https://localhost:8080/"
        },
        "id": "CGCi8_n6zQQv",
        "outputId": "75e33c23-83c0-44b6-c33b-d3c4f80e135c"
      },
      "source": [
        "df[df[\"Current Loan Amount\"] >= 99999999][\"Loan Status\"].count()"
      ],
      "execution_count": null,
      "outputs": [
        {
          "output_type": "execute_result",
          "data": {
            "text/plain": [
              "0"
            ]
          },
          "metadata": {
            "tags": []
          },
          "execution_count": 25
        }
      ]
    },
    {
      "cell_type": "markdown",
      "metadata": {
        "id": "5dIcGb-6zQQv"
      },
      "source": [
        "### Term"
      ]
    },
    {
      "cell_type": "code",
      "metadata": {
        "colab": {
          "base_uri": "https://localhost:8080/"
        },
        "id": "wP6elQFizQQv",
        "outputId": "46d69feb-4f8a-470c-d33e-26587f1d6370"
      },
      "source": [
        "df[\"Term\"].unique()"
      ],
      "execution_count": null,
      "outputs": [
        {
          "output_type": "execute_result",
          "data": {
            "text/plain": [
              "array(['Short Term', 'Long Term'], dtype=object)"
            ]
          },
          "metadata": {
            "tags": []
          },
          "execution_count": 26
        }
      ]
    },
    {
      "cell_type": "code",
      "metadata": {
        "id": "PEZZRqOXzQQv"
      },
      "source": [
        "CategoricalaCevir(df, \"Term\")"
      ],
      "execution_count": null,
      "outputs": []
    },
    {
      "cell_type": "markdown",
      "metadata": {
        "id": "s29uF-GQzQQw"
      },
      "source": [
        "### Credit Score"
      ]
    },
    {
      "cell_type": "markdown",
      "metadata": {
        "id": "4QFVj0k7zQQw"
      },
      "source": [
        "Yukarıda fark ettiğim hatayı düzelttim ve boş verileri doldurdum."
      ]
    },
    {
      "cell_type": "code",
      "metadata": {
        "id": "eNND-dqwzQQw"
      },
      "source": [
        "df.loc[df[\"Credit Score\"] > 800, 'Credit Score'] = df[\"Credit Score\"]/10"
      ],
      "execution_count": null,
      "outputs": []
    },
    {
      "cell_type": "code",
      "metadata": {
        "id": "ymm6UZUYzQQw"
      },
      "source": [
        "df[\"Credit Score\"] =  df[\"Credit Score\"].fillna(df[\"Credit Score\"].median())"
      ],
      "execution_count": null,
      "outputs": []
    },
    {
      "cell_type": "code",
      "metadata": {
        "id": "hmmT6buezQQx"
      },
      "source": [
        "TypeAyarla(df, \"Credit Score\", \"int16\")"
      ],
      "execution_count": null,
      "outputs": []
    },
    {
      "cell_type": "markdown",
      "metadata": {
        "id": "v0tI7TskzQQx"
      },
      "source": [
        "### Years in current job"
      ]
    },
    {
      "cell_type": "code",
      "metadata": {
        "colab": {
          "base_uri": "https://localhost:8080/"
        },
        "id": "j0SRUUzWzQQx",
        "outputId": "d39e93db-a8e1-4cb8-d7ea-a973173b610c"
      },
      "source": [
        "df[\"Years in current job\"].unique()"
      ],
      "execution_count": null,
      "outputs": [
        {
          "output_type": "execute_result",
          "data": {
            "text/plain": [
              "array(['10+ years', '4 years', '6 years', '5 years', nan, '3 years',\n",
              "       '2 years', '< 1 year', '1 year', '7 years', '9 years', '8 years'],\n",
              "      dtype=object)"
            ]
          },
          "metadata": {
            "tags": []
          },
          "execution_count": 31
        }
      ]
    },
    {
      "cell_type": "code",
      "metadata": {
        "id": "mKoV1w7vzQQx"
      },
      "source": [
        "df[\"Years in current job\"].replace([\"10+ years\"], 10, inplace=True)\n",
        "df[\"Years in current job\"].replace([\"9 years\"], 9, inplace=True)\n",
        "df[\"Years in current job\"].replace([\"8 years\"], 8, inplace=True)\n",
        "df[\"Years in current job\"].replace([\"7 years\"], 7, inplace=True)\n",
        "df[\"Years in current job\"].replace([\"6 years\"], 6, inplace=True)\n",
        "df[\"Years in current job\"].replace([\"5 years\"], 5, inplace=True)\n",
        "df[\"Years in current job\"].replace([\"4 years\"], 4, inplace=True)\n",
        "df[\"Years in current job\"].replace([\"3 years\"], 3, inplace=True)\n",
        "df[\"Years in current job\"].replace([\"2 years\"], 2, inplace=True)\n",
        "df[\"Years in current job\"].replace([\"1 year\"], 1, inplace=True)\n",
        "df[\"Years in current job\"].replace([\"< 1 year\"], 0.5, inplace=True)"
      ],
      "execution_count": null,
      "outputs": []
    },
    {
      "cell_type": "code",
      "metadata": {
        "colab": {
          "base_uri": "https://localhost:8080/"
        },
        "id": "vN5DZ3IdzQQx",
        "outputId": "0637ea98-e7e5-4cfe-d348-1f562e0efaad"
      },
      "source": [
        "df[\"Years in current job\"].unique()"
      ],
      "execution_count": null,
      "outputs": [
        {
          "output_type": "execute_result",
          "data": {
            "text/plain": [
              "array([10. ,  4. ,  6. ,  5. ,  nan,  3. ,  2. ,  0.5,  1. ,  7. ,  9. ,\n",
              "        8. ])"
            ]
          },
          "metadata": {
            "tags": []
          },
          "execution_count": 33
        }
      ]
    },
    {
      "cell_type": "code",
      "metadata": {
        "id": "buKzV83kzQQy"
      },
      "source": [
        "df[\"Years in current job\"] =  df[\"Years in current job\"].fillna(0)"
      ],
      "execution_count": null,
      "outputs": []
    },
    {
      "cell_type": "code",
      "metadata": {
        "colab": {
          "base_uri": "https://localhost:8080/"
        },
        "id": "_b0-J3uuzQQy",
        "outputId": "2ae8ed82-ecb0-4ce3-b1ca-b399ef8077dd"
      },
      "source": [
        "df[\"Years in current job\"]"
      ],
      "execution_count": null,
      "outputs": [
        {
          "output_type": "execute_result",
          "data": {
            "text/plain": [
              "0         10.0\n",
              "1          4.0\n",
              "2         10.0\n",
              "3         10.0\n",
              "4          4.0\n",
              "          ... \n",
              "256979     2.0\n",
              "256980    10.0\n",
              "256981     9.0\n",
              "256982     9.0\n",
              "256983    10.0\n",
              "Name: Years in current job, Length: 256984, dtype: float64"
            ]
          },
          "metadata": {
            "tags": []
          },
          "execution_count": 35
        }
      ]
    },
    {
      "cell_type": "code",
      "metadata": {
        "id": "AQwbsGQtzQQy"
      },
      "source": [
        "NumerigeCevir(df, \"Years in current job\")"
      ],
      "execution_count": null,
      "outputs": []
    },
    {
      "cell_type": "code",
      "metadata": {
        "colab": {
          "base_uri": "https://localhost:8080/"
        },
        "id": "gwREa0hszQQy",
        "outputId": "0da2db56-bcee-4cb6-a5c8-512be37bcdd4"
      },
      "source": [
        "df.info()"
      ],
      "execution_count": null,
      "outputs": [
        {
          "output_type": "stream",
          "text": [
            "<class 'pandas.core.frame.DataFrame'>\n",
            "RangeIndex: 256984 entries, 0 to 256983\n",
            "Data columns (total 19 columns):\n",
            " #   Column                        Non-Null Count   Dtype   \n",
            "---  ------                        --------------   -----   \n",
            " 0   Loan ID                       256984 non-null  category\n",
            " 1   Customer ID                   256984 non-null  category\n",
            " 2   Loan Status                   256984 non-null  uint8   \n",
            " 3   Current Loan Amount           256984 non-null  float64 \n",
            " 4   Term                          256984 non-null  category\n",
            " 5   Credit Score                  256984 non-null  int16   \n",
            " 6   Years in current job          256984 non-null  float64 \n",
            " 7   Home Ownership                256984 non-null  object  \n",
            " 8   Annual Income                 195308 non-null  float64 \n",
            " 9   Purpose                       256984 non-null  object  \n",
            " 10  Monthly Debt                  256984 non-null  object  \n",
            " 11  Years of Credit History       256984 non-null  float64 \n",
            " 12  Months since last delinquent  116601 non-null  float64 \n",
            " 13  Number of Open Accounts       256984 non-null  int64   \n",
            " 14  Number of Credit Problems     256984 non-null  int64   \n",
            " 15  Current Credit Balance        256984 non-null  int64   \n",
            " 16  Maximum Open Credit           256984 non-null  object  \n",
            " 17  Bankruptcies                  256455 non-null  float64 \n",
            " 18  Tax Liens                     256961 non-null  float64 \n",
            "dtypes: category(3), float64(7), int16(1), int64(3), object(4), uint8(1)\n",
            "memory usage: 53.7+ MB\n"
          ],
          "name": "stdout"
        }
      ]
    },
    {
      "cell_type": "markdown",
      "metadata": {
        "id": "X0vdoUYSzQQz"
      },
      "source": [
        "### Home Ownership"
      ]
    },
    {
      "cell_type": "code",
      "metadata": {
        "id": "ByUfXIONzQQz"
      },
      "source": [
        "df[\"Home Ownership\"] = df[\"Home Ownership\"].replace(\"HaveMortgage\", \"Home Mortgage\")"
      ],
      "execution_count": null,
      "outputs": []
    },
    {
      "cell_type": "code",
      "metadata": {
        "colab": {
          "base_uri": "https://localhost:8080/"
        },
        "id": "PjNcGgeezQQz",
        "outputId": "ff6ae355-81ca-4f45-d3ae-8f555b22106a"
      },
      "source": [
        "df[\"Home Ownership\"].unique()"
      ],
      "execution_count": null,
      "outputs": [
        {
          "output_type": "execute_result",
          "data": {
            "text/plain": [
              "array(['Home Mortgage', 'Own Home', 'Rent'], dtype=object)"
            ]
          },
          "metadata": {
            "tags": []
          },
          "execution_count": 39
        }
      ]
    },
    {
      "cell_type": "code",
      "metadata": {
        "id": "rZeN8fRyzQQz"
      },
      "source": [
        "CategoricalaCevir(df, \"Home Ownership\")"
      ],
      "execution_count": null,
      "outputs": []
    },
    {
      "cell_type": "markdown",
      "metadata": {
        "id": "DhmUUmJlzQQ0"
      },
      "source": [
        "###  Annual Income"
      ]
    },
    {
      "cell_type": "markdown",
      "metadata": {
        "id": "AHyUMwUDzQQ0"
      },
      "source": [
        "Yıllık gelir üzerinden aylık geliri hesabı yapacağım. Bunu müşterilerin aylık mevcut kredi borçlarıyla oranlayıp faydalı bir sutün elde etmeyi planlıyorum."
      ]
    },
    {
      "cell_type": "code",
      "metadata": {
        "colab": {
          "base_uri": "https://localhost:8080/"
        },
        "id": "BiLsCezdzQQ0",
        "outputId": "39796f33-6dc0-4f4f-8882-3fe9a26d1719"
      },
      "source": [
        "df[\"Annual Income\"].isnull().sum()"
      ],
      "execution_count": null,
      "outputs": [
        {
          "output_type": "execute_result",
          "data": {
            "text/plain": [
              "61676"
            ]
          },
          "metadata": {
            "tags": []
          },
          "execution_count": 41
        }
      ]
    },
    {
      "cell_type": "code",
      "metadata": {
        "id": "xwT00NvSzQQ0"
      },
      "source": [
        "df[\"Annual Income\"] = df[\"Annual Income\"].fillna(df[\"Annual Income\"].median())"
      ],
      "execution_count": null,
      "outputs": []
    },
    {
      "cell_type": "code",
      "metadata": {
        "colab": {
          "base_uri": "https://localhost:8080/"
        },
        "id": "DiIZ9a0szQQ0",
        "outputId": "9160ef94-034e-4fd1-abe7-a3a51716f6bb"
      },
      "source": [
        "df[\"Annual Income\"].isnull().sum()"
      ],
      "execution_count": null,
      "outputs": [
        {
          "output_type": "execute_result",
          "data": {
            "text/plain": [
              "0"
            ]
          },
          "metadata": {
            "tags": []
          },
          "execution_count": 43
        }
      ]
    },
    {
      "cell_type": "code",
      "metadata": {
        "colab": {
          "base_uri": "https://localhost:8080/"
        },
        "id": "K7g5jehWzQQ1",
        "outputId": "4de10124-1573-4e51-bb6b-4330c011fbb0"
      },
      "source": [
        "df[\"Annual Income\"].max()"
      ],
      "execution_count": null,
      "outputs": [
        {
          "output_type": "execute_result",
          "data": {
            "text/plain": [
              "8713547.0"
            ]
          },
          "metadata": {
            "tags": []
          },
          "execution_count": 44
        }
      ]
    },
    {
      "cell_type": "markdown",
      "metadata": {
        "id": "As0Y5cxOzQQ1"
      },
      "source": [
        "### Aylık Gelir"
      ]
    },
    {
      "cell_type": "code",
      "metadata": {
        "id": "hbjRyFYHzQQ1"
      },
      "source": [
        "df[\"Aylık Gelir\"] = df[\"Annual Income\"]/12"
      ],
      "execution_count": null,
      "outputs": []
    },
    {
      "cell_type": "code",
      "metadata": {
        "colab": {
          "base_uri": "https://localhost:8080/"
        },
        "id": "dxxLqAK-zQQ1",
        "outputId": "f4d68d17-5d58-474f-b0ce-0d5440745015"
      },
      "source": [
        "df[\"Aylık Gelir\"].head()"
      ],
      "execution_count": null,
      "outputs": [
        {
          "output_type": "execute_result",
          "data": {
            "text/plain": [
              "0    2807.833333\n",
              "1    3522.416667\n",
              "2    7510.500000\n",
              "3    3172.666667\n",
              "4    4168.750000\n",
              "Name: Aylık Gelir, dtype: float64"
            ]
          },
          "metadata": {
            "tags": []
          },
          "execution_count": 46
        }
      ]
    },
    {
      "cell_type": "markdown",
      "metadata": {
        "id": "SFk_23kUzQQ1"
      },
      "source": [
        "### Purpose"
      ]
    },
    {
      "cell_type": "code",
      "metadata": {
        "colab": {
          "base_uri": "https://localhost:8080/"
        },
        "id": "HpwpvHmvzQQ2",
        "outputId": "663d09ef-4bac-49fb-a44a-3a712c15ca58"
      },
      "source": [
        "df[\"Purpose\"].unique()"
      ],
      "execution_count": null,
      "outputs": [
        {
          "output_type": "execute_result",
          "data": {
            "text/plain": [
              "array(['Debt Consolidation', 'other', 'Business Loan',\n",
              "       'Home Improvements', 'Buy House', 'Other', 'Buy a Car',\n",
              "       'Medical Bills', 'Take a Trip', 'Educational Expenses'],\n",
              "      dtype=object)"
            ]
          },
          "metadata": {
            "tags": []
          },
          "execution_count": 47
        }
      ]
    },
    {
      "cell_type": "markdown",
      "metadata": {
        "id": "TCU1UEmEzQQ2"
      },
      "source": [
        "iki farklı \"other\" var. Bunları birleştiriyorum."
      ]
    },
    {
      "cell_type": "code",
      "metadata": {
        "id": "5KmCaxMMzQQ2"
      },
      "source": [
        "df[\"Purpose\"].replace(\"other\", \"Other\", inplace = True)"
      ],
      "execution_count": null,
      "outputs": []
    },
    {
      "cell_type": "code",
      "metadata": {
        "colab": {
          "base_uri": "https://localhost:8080/"
        },
        "id": "2IW9F0FUzQQ2",
        "outputId": "8db8d9b7-b33a-4f6b-9df8-fee67e1726ca"
      },
      "source": [
        "df[\"Purpose\"].unique()"
      ],
      "execution_count": null,
      "outputs": [
        {
          "output_type": "execute_result",
          "data": {
            "text/plain": [
              "array(['Debt Consolidation', 'Other', 'Business Loan',\n",
              "       'Home Improvements', 'Buy House', 'Buy a Car', 'Medical Bills',\n",
              "       'Take a Trip', 'Educational Expenses'], dtype=object)"
            ]
          },
          "metadata": {
            "tags": []
          },
          "execution_count": 49
        }
      ]
    },
    {
      "cell_type": "code",
      "metadata": {
        "id": "Kjm21C0DzQQ2"
      },
      "source": [
        "CategoricalaCevir(df, \"Purpose\")"
      ],
      "execution_count": null,
      "outputs": []
    },
    {
      "cell_type": "markdown",
      "metadata": {
        "id": "tvOsWMRGzQQ3"
      },
      "source": [
        "### Monthly Debt"
      ]
    },
    {
      "cell_type": "code",
      "metadata": {
        "id": "jQjTOTdRzQQ3"
      },
      "source": [
        "df['Monthly Debt'] = df['Monthly Debt'].str.replace(r'\\D', '').astype(int)"
      ],
      "execution_count": null,
      "outputs": []
    },
    {
      "cell_type": "code",
      "metadata": {
        "colab": {
          "base_uri": "https://localhost:8080/"
        },
        "id": "qNnDEQwAzQQ3",
        "outputId": "81de09f6-a431-41de-c6a4-a219b38dd102"
      },
      "source": [
        "df[\"Monthly Debt\"].head()"
      ],
      "execution_count": null,
      "outputs": [
        {
          "output_type": "execute_result",
          "data": {
            "text/plain": [
              "0     58403\n",
              "1    110604\n",
              "2    132185\n",
              "3     75192\n",
              "4     35518\n",
              "Name: Monthly Debt, dtype: int64"
            ]
          },
          "metadata": {
            "tags": []
          },
          "execution_count": 52
        }
      ]
    },
    {
      "cell_type": "code",
      "metadata": {
        "id": "Bj-x7awNzQQ3"
      },
      "source": [
        "df.loc[df[\"Monthly Debt\"] > -1, 'Monthly Debt'] = df[\"Monthly Debt\"]/100"
      ],
      "execution_count": null,
      "outputs": []
    },
    {
      "cell_type": "code",
      "metadata": {
        "colab": {
          "base_uri": "https://localhost:8080/"
        },
        "id": "cfTtc7YGzQQ3",
        "outputId": "87d46d9f-9538-442e-c4f6-31afa5ee0b4c"
      },
      "source": [
        "df[\"Monthly Debt\"].head()"
      ],
      "execution_count": null,
      "outputs": [
        {
          "output_type": "execute_result",
          "data": {
            "text/plain": [
              "0     584.03\n",
              "1    1106.04\n",
              "2    1321.85\n",
              "3     751.92\n",
              "4     355.18\n",
              "Name: Monthly Debt, dtype: float64"
            ]
          },
          "metadata": {
            "tags": []
          },
          "execution_count": 54
        }
      ]
    },
    {
      "cell_type": "markdown",
      "metadata": {
        "id": "UbMl1e5pzQQ4"
      },
      "source": [
        "### Aylık Borç Oranı"
      ]
    },
    {
      "cell_type": "code",
      "metadata": {
        "id": "3mzBe3yqzQQ4"
      },
      "source": [
        "df[\"Aylık Borç Oranı\"] = df['Monthly Debt'] / df[\"Aylık Gelir\"]"
      ],
      "execution_count": null,
      "outputs": []
    },
    {
      "cell_type": "code",
      "metadata": {
        "colab": {
          "base_uri": "https://localhost:8080/"
        },
        "id": "cpk2GyfmzQQ4",
        "outputId": "eff4c6c0-3a30-45ec-ab97-ca61f4de3a68"
      },
      "source": [
        "df[\"Aylık Borç Oranı\"].head()"
      ],
      "execution_count": null,
      "outputs": [
        {
          "output_type": "execute_result",
          "data": {
            "text/plain": [
              "0    0.208000\n",
              "1    0.314000\n",
              "2    0.176000\n",
              "3    0.236999\n",
              "4    0.085201\n",
              "Name: Aylık Borç Oranı, dtype: float64"
            ]
          },
          "metadata": {
            "tags": []
          },
          "execution_count": 56
        }
      ]
    },
    {
      "cell_type": "code",
      "metadata": {
        "id": "fLreKrjSzQQ5"
      },
      "source": [
        "df[\"Aylık Borç Oranı\"] = df[\"Aylık Borç Oranı\"].fillna(df[\"Aylık Borç Oranı\"].median())"
      ],
      "execution_count": null,
      "outputs": []
    },
    {
      "cell_type": "markdown",
      "metadata": {
        "id": "K6lp18G2zQQ5"
      },
      "source": [
        "### Months since last delinquent"
      ]
    },
    {
      "cell_type": "code",
      "metadata": {
        "colab": {
          "base_uri": "https://localhost:8080/"
        },
        "id": "_dC5Jn5XzQQ5",
        "outputId": "bc79e784-1b45-4cd9-b3eb-d4ce9c91274f"
      },
      "source": [
        "df[\"Months since last delinquent\"].isnull().sum()"
      ],
      "execution_count": null,
      "outputs": [
        {
          "output_type": "execute_result",
          "data": {
            "text/plain": [
              "140383"
            ]
          },
          "metadata": {
            "tags": []
          },
          "execution_count": 58
        }
      ]
    },
    {
      "cell_type": "code",
      "metadata": {
        "scrolled": true,
        "colab": {
          "base_uri": "https://localhost:8080/"
        },
        "id": "f1kMs74xzQQ5",
        "outputId": "4ff56d59-ae15-4f42-845a-6e17057deb5a"
      },
      "source": [
        "df[\"Months since last delinquent\"].describe()"
      ],
      "execution_count": null,
      "outputs": [
        {
          "output_type": "execute_result",
          "data": {
            "text/plain": [
              "count    116601.000000\n",
              "mean         34.881450\n",
              "std          21.854165\n",
              "min           0.000000\n",
              "25%          16.000000\n",
              "50%          32.000000\n",
              "75%          51.000000\n",
              "max         176.000000\n",
              "Name: Months since last delinquent, dtype: float64"
            ]
          },
          "metadata": {
            "tags": []
          },
          "execution_count": 59
        }
      ]
    },
    {
      "cell_type": "code",
      "metadata": {
        "id": "d-e4HIYkzQQ6"
      },
      "source": [
        "df[\"Months since last delinquent\"] = df[\"Months since last delinquent\"].fillna(df[\"Months since last delinquent\"].median())"
      ],
      "execution_count": null,
      "outputs": []
    },
    {
      "cell_type": "code",
      "metadata": {
        "colab": {
          "base_uri": "https://localhost:8080/"
        },
        "id": "bDiQXrOJzQQ6",
        "outputId": "307c1c43-8912-493d-e15a-07ca9473beac"
      },
      "source": [
        "df[\"Months since last delinquent\"].isnull().sum()"
      ],
      "execution_count": null,
      "outputs": [
        {
          "output_type": "execute_result",
          "data": {
            "text/plain": [
              "0"
            ]
          },
          "metadata": {
            "tags": []
          },
          "execution_count": 61
        }
      ]
    },
    {
      "cell_type": "markdown",
      "metadata": {
        "id": "u1pmYKEEzQQ6"
      },
      "source": [
        "### Number of Open Accounts"
      ]
    },
    {
      "cell_type": "code",
      "metadata": {
        "colab": {
          "base_uri": "https://localhost:8080/"
        },
        "id": "hiHLb6DXzQQ6",
        "outputId": "171c38ca-be3d-4e18-8da9-3ec7acd3d8c5"
      },
      "source": [
        "df[\"Number of Open Accounts\"].unique()"
      ],
      "execution_count": null,
      "outputs": [
        {
          "output_type": "execute_result",
          "data": {
            "text/plain": [
              "array([10, 17,  5,  9, 12,  4,  7, 11,  8, 13, 14, 16, 22, 34, 28,  6, 15,\n",
              "        3, 24,  2, 21, 20, 19, 25, 29, 18, 23, 35, 32, 31, 26, 47, 30, 27,\n",
              "       37, 40, 33, 36, 39, 38, 42, 48, 76, 50, 44, 41,  1, 56, 43, 53,  0,\n",
              "       46, 49, 45, 55, 52, 51, 58, 54])"
            ]
          },
          "metadata": {
            "tags": []
          },
          "execution_count": 62
        }
      ]
    },
    {
      "cell_type": "code",
      "metadata": {
        "id": "ZNcvi3uCzQQ6"
      },
      "source": [
        "TypeAyarla(df, \"Number of Open Accounts\", \"uint8\")"
      ],
      "execution_count": null,
      "outputs": []
    },
    {
      "cell_type": "markdown",
      "metadata": {
        "id": "E_K43_10zQQ7"
      },
      "source": [
        "### Number of Credit Problems"
      ]
    },
    {
      "cell_type": "code",
      "metadata": {
        "colab": {
          "base_uri": "https://localhost:8080/"
        },
        "id": "H3CHcUMazQQ7",
        "outputId": "c9824492-672f-4d60-871a-52f2a99037c3"
      },
      "source": [
        "df[\"Number of Credit Problems\"].unique()"
      ],
      "execution_count": null,
      "outputs": [
        {
          "output_type": "execute_result",
          "data": {
            "text/plain": [
              "array([ 0,  1,  2,  5,  3,  4,  6,  7,  9, 10,  8, 11])"
            ]
          },
          "metadata": {
            "tags": []
          },
          "execution_count": 64
        }
      ]
    },
    {
      "cell_type": "code",
      "metadata": {
        "id": "qUKCH3c2zQQ7"
      },
      "source": [
        "TypeAyarla(df, \"Number of Credit Problems\", \"uint8\")"
      ],
      "execution_count": null,
      "outputs": []
    },
    {
      "cell_type": "markdown",
      "metadata": {
        "id": "L0efteLgzQQ7"
      },
      "source": [
        "### Maximum Open Credit"
      ]
    },
    {
      "cell_type": "code",
      "metadata": {
        "colab": {
          "base_uri": "https://localhost:8080/"
        },
        "id": "k4Z8wdR6zQQ7",
        "outputId": "c683f38e-7b0f-465e-ca20-7a24d84ee9b8"
      },
      "source": [
        "df[\"Maximum Open Credit\"].isnull().sum()"
      ],
      "execution_count": null,
      "outputs": [
        {
          "output_type": "execute_result",
          "data": {
            "text/plain": [
              "0"
            ]
          },
          "metadata": {
            "tags": []
          },
          "execution_count": 66
        }
      ]
    },
    {
      "cell_type": "code",
      "metadata": {
        "id": "lYIL1QY2zQQ8"
      },
      "source": [
        "df[\"Maximum Open Credit\"] = df[\"Maximum Open Credit\"].str.extract(r\"(\\d+)\", expand=False).astype(\"float\")"
      ],
      "execution_count": null,
      "outputs": []
    },
    {
      "cell_type": "code",
      "metadata": {
        "colab": {
          "base_uri": "https://localhost:8080/"
        },
        "id": "LVY9rlk1zQQ8",
        "outputId": "05f867db-8378-4662-ad3e-58306ed48108"
      },
      "source": [
        "df.info()"
      ],
      "execution_count": null,
      "outputs": [
        {
          "output_type": "stream",
          "text": [
            "<class 'pandas.core.frame.DataFrame'>\n",
            "RangeIndex: 256984 entries, 0 to 256983\n",
            "Data columns (total 21 columns):\n",
            " #   Column                        Non-Null Count   Dtype   \n",
            "---  ------                        --------------   -----   \n",
            " 0   Loan ID                       256984 non-null  category\n",
            " 1   Customer ID                   256984 non-null  category\n",
            " 2   Loan Status                   256984 non-null  uint8   \n",
            " 3   Current Loan Amount           256984 non-null  float64 \n",
            " 4   Term                          256984 non-null  category\n",
            " 5   Credit Score                  256984 non-null  int16   \n",
            " 6   Years in current job          256984 non-null  float64 \n",
            " 7   Home Ownership                256984 non-null  category\n",
            " 8   Annual Income                 256984 non-null  float64 \n",
            " 9   Purpose                       256984 non-null  category\n",
            " 10  Monthly Debt                  256984 non-null  float64 \n",
            " 11  Years of Credit History       256984 non-null  float64 \n",
            " 12  Months since last delinquent  256984 non-null  float64 \n",
            " 13  Number of Open Accounts       256984 non-null  uint8   \n",
            " 14  Number of Credit Problems     256984 non-null  uint8   \n",
            " 15  Current Credit Balance        256984 non-null  int64   \n",
            " 16  Maximum Open Credit           32764 non-null   float64 \n",
            " 17  Bankruptcies                  256455 non-null  float64 \n",
            " 18  Tax Liens                     256961 non-null  float64 \n",
            " 19  Aylık Gelir                   256984 non-null  float64 \n",
            " 20  Aylık Borç Oranı              256984 non-null  float64 \n",
            "dtypes: category(5), float64(11), int16(1), int64(1), uint8(3)\n",
            "memory usage: 50.7 MB\n"
          ],
          "name": "stdout"
        }
      ]
    },
    {
      "cell_type": "markdown",
      "metadata": {
        "id": "TgQRnj0FzQQ8"
      },
      "source": [
        "###  Bankruptcies"
      ]
    },
    {
      "cell_type": "code",
      "metadata": {
        "colab": {
          "base_uri": "https://localhost:8080/"
        },
        "id": "Sy5veqUWzQQ8",
        "outputId": "53196df3-d147-4040-8342-7a8c089ed20c"
      },
      "source": [
        "df[\"Bankruptcies\"].isnull().sum()"
      ],
      "execution_count": null,
      "outputs": [
        {
          "output_type": "execute_result",
          "data": {
            "text/plain": [
              "529"
            ]
          },
          "metadata": {
            "tags": []
          },
          "execution_count": 69
        }
      ]
    },
    {
      "cell_type": "code",
      "metadata": {
        "id": "hqio9ZwpzQQ8"
      },
      "source": [
        "df[\"Bankruptcies\"] = df[\"Bankruptcies\"].fillna(df[\"Bankruptcies\"].median())"
      ],
      "execution_count": null,
      "outputs": []
    },
    {
      "cell_type": "code",
      "metadata": {
        "colab": {
          "base_uri": "https://localhost:8080/"
        },
        "id": "K8BcLIiYzQQ9",
        "outputId": "cbbcab1f-e81c-4308-ffc7-2e645604efc5"
      },
      "source": [
        "df[\"Bankruptcies\"].isnull().sum()"
      ],
      "execution_count": null,
      "outputs": [
        {
          "output_type": "execute_result",
          "data": {
            "text/plain": [
              "0"
            ]
          },
          "metadata": {
            "tags": []
          },
          "execution_count": 71
        }
      ]
    },
    {
      "cell_type": "markdown",
      "metadata": {
        "id": "n8ACwixkzQQ9"
      },
      "source": [
        "### Tax Liens"
      ]
    },
    {
      "cell_type": "code",
      "metadata": {
        "colab": {
          "base_uri": "https://localhost:8080/"
        },
        "id": "t3xa-3_FzQQ9",
        "outputId": "a7f31db4-6cf4-4da4-b998-eafa7b435a85"
      },
      "source": [
        "df[\"Tax Liens\"].isnull().sum()"
      ],
      "execution_count": null,
      "outputs": [
        {
          "output_type": "execute_result",
          "data": {
            "text/plain": [
              "23"
            ]
          },
          "metadata": {
            "tags": []
          },
          "execution_count": 72
        }
      ]
    },
    {
      "cell_type": "code",
      "metadata": {
        "id": "M3I4z0yUzQQ9"
      },
      "source": [
        "df[\"Tax Liens\"] = df[\"Tax Liens\"].fillna(df[\"Tax Liens\"].median())"
      ],
      "execution_count": null,
      "outputs": []
    },
    {
      "cell_type": "code",
      "metadata": {
        "scrolled": false,
        "colab": {
          "base_uri": "https://localhost:8080/"
        },
        "id": "8-BCGxxgzQQ-",
        "outputId": "891e33fb-5313-4833-fbd3-ddbd734757d9"
      },
      "source": [
        "df[\"Bankruptcies\"].isnull().sum()"
      ],
      "execution_count": null,
      "outputs": [
        {
          "output_type": "execute_result",
          "data": {
            "text/plain": [
              "0"
            ]
          },
          "metadata": {
            "tags": []
          },
          "execution_count": 74
        }
      ]
    },
    {
      "cell_type": "code",
      "metadata": {
        "scrolled": true,
        "colab": {
          "base_uri": "https://localhost:8080/"
        },
        "id": "CONyuQazzQQ-",
        "outputId": "006ecb4b-9359-4cc1-f7f3-d4ddacdfd904"
      },
      "source": [
        "df.isnull().sum()"
      ],
      "execution_count": null,
      "outputs": [
        {
          "output_type": "execute_result",
          "data": {
            "text/plain": [
              "Loan ID                              0\n",
              "Customer ID                          0\n",
              "Loan Status                          0\n",
              "Current Loan Amount                  0\n",
              "Term                                 0\n",
              "Credit Score                         0\n",
              "Years in current job                 0\n",
              "Home Ownership                       0\n",
              "Annual Income                        0\n",
              "Purpose                              0\n",
              "Monthly Debt                         0\n",
              "Years of Credit History              0\n",
              "Months since last delinquent         0\n",
              "Number of Open Accounts              0\n",
              "Number of Credit Problems            0\n",
              "Current Credit Balance               0\n",
              "Maximum Open Credit             224220\n",
              "Bankruptcies                         0\n",
              "Tax Liens                            0\n",
              "Aylık Gelir                          0\n",
              "Aylık Borç Oranı                     0\n",
              "dtype: int64"
            ]
          },
          "metadata": {
            "tags": []
          },
          "execution_count": 75
        }
      ]
    },
    {
      "cell_type": "markdown",
      "metadata": {
        "id": "5rTPexuHzQQ-"
      },
      "source": [
        "### Credit Balance / Usage"
      ]
    },
    {
      "cell_type": "code",
      "metadata": {
        "id": "USCiwn--zQQ-"
      },
      "source": [
        "df[\"Credit Utilization\"] = df[\"Current Credit Balance\"] / df[\"Maximum Open Credit\"]"
      ],
      "execution_count": null,
      "outputs": []
    },
    {
      "cell_type": "code",
      "metadata": {
        "colab": {
          "base_uri": "https://localhost:8080/"
        },
        "id": "o2mP6Ez4zQQ-",
        "outputId": "c895f3bb-de29-4f91-ae76-908c287fc3d1"
      },
      "source": [
        "df[\"Credit Utilization\"].isnull().sum()"
      ],
      "execution_count": null,
      "outputs": [
        {
          "output_type": "execute_result",
          "data": {
            "text/plain": [
              "224426"
            ]
          },
          "metadata": {
            "tags": []
          },
          "execution_count": 77
        }
      ]
    },
    {
      "cell_type": "code",
      "metadata": {
        "id": "JRmdrlv3zQQ_"
      },
      "source": [
        "import numpy as np\n",
        "df.loc[df[\"Credit Utilization\"].isin([np.nan, np.inf, -np.inf]), \"Credit Utilization\"] = 0"
      ],
      "execution_count": null,
      "outputs": []
    },
    {
      "cell_type": "markdown",
      "metadata": {
        "id": "5l9r5jcMzQQ_"
      },
      "source": [
        "### ID "
      ]
    },
    {
      "cell_type": "code",
      "metadata": {
        "id": "gNK7wo62zQQ_"
      },
      "source": [
        "loanID = df[\"Loan ID\"].tolist()\n",
        "customerID = df[\"Customer ID\"].tolist()\n",
        "ID_list = [loanID[i] + \" : \" + customerID[i] for i in range(len(customerID))]\n",
        "df[\"ID\"] = ID_list\n",
        "\n",
        "df.set_index(\"ID\", inplace = True)"
      ],
      "execution_count": null,
      "outputs": []
    },
    {
      "cell_type": "markdown",
      "metadata": {
        "id": "FA-3ZZLAzQQ_"
      },
      "source": [
        "## Outliers Kontrolü"
      ]
    },
    {
      "cell_type": "code",
      "metadata": {
        "scrolled": true,
        "colab": {
          "base_uri": "https://localhost:8080/"
        },
        "id": "5F_JYaLzzQQ_",
        "outputId": "aaa24bf0-a42b-43f5-85ca-26638964ed80"
      },
      "source": [
        "df.describe()"
      ],
      "execution_count": null,
      "outputs": [
        {
          "output_type": "execute_result",
          "data": {
            "text/html": [
              "<div>\n",
              "<style scoped>\n",
              "    .dataframe tbody tr th:only-of-type {\n",
              "        vertical-align: middle;\n",
              "    }\n",
              "\n",
              "    .dataframe tbody tr th {\n",
              "        vertical-align: top;\n",
              "    }\n",
              "\n",
              "    .dataframe thead th {\n",
              "        text-align: right;\n",
              "    }\n",
              "</style>\n",
              "<table border=\"1\" class=\"dataframe\">\n",
              "  <thead>\n",
              "    <tr style=\"text-align: right;\">\n",
              "      <th></th>\n",
              "      <th>Loan Status</th>\n",
              "      <th>Current Loan Amount</th>\n",
              "      <th>Credit Score</th>\n",
              "      <th>Years in current job</th>\n",
              "      <th>Annual Income</th>\n",
              "      <th>Monthly Debt</th>\n",
              "      <th>Years of Credit History</th>\n",
              "      <th>Months since last delinquent</th>\n",
              "      <th>Number of Open Accounts</th>\n",
              "      <th>Number of Credit Problems</th>\n",
              "      <th>Current Credit Balance</th>\n",
              "      <th>Maximum Open Credit</th>\n",
              "      <th>Bankruptcies</th>\n",
              "      <th>Tax Liens</th>\n",
              "      <th>Aylık Gelir</th>\n",
              "      <th>Aylık Borç Oranı</th>\n",
              "      <th>Credit Utilization</th>\n",
              "    </tr>\n",
              "  </thead>\n",
              "  <tbody>\n",
              "    <tr>\n",
              "      <th>count</th>\n",
              "      <td>256984.000000</td>\n",
              "      <td>256984.000000</td>\n",
              "      <td>256984.000000</td>\n",
              "      <td>256984.000000</td>\n",
              "      <td>2.569840e+05</td>\n",
              "      <td>256984.000000</td>\n",
              "      <td>256984.000000</td>\n",
              "      <td>256984.000000</td>\n",
              "      <td>256984.000000</td>\n",
              "      <td>256984.000000</td>\n",
              "      <td>2.569840e+05</td>\n",
              "      <td>3.276400e+04</td>\n",
              "      <td>256984.000000</td>\n",
              "      <td>256984.000000</td>\n",
              "      <td>256984.000000</td>\n",
              "      <td>256984.000000</td>\n",
              "      <td>256984.000000</td>\n",
              "    </tr>\n",
              "    <tr>\n",
              "      <th>mean</th>\n",
              "      <td>0.685611</td>\n",
              "      <td>13716.392347</td>\n",
              "      <td>723.314424</td>\n",
              "      <td>5.648177</td>\n",
              "      <td>6.938215e+04</td>\n",
              "      <td>963.310424</td>\n",
              "      <td>18.290195</td>\n",
              "      <td>33.307397</td>\n",
              "      <td>11.106267</td>\n",
              "      <td>0.156628</td>\n",
              "      <td>1.540656e+04</td>\n",
              "      <td>3.749965e+04</td>\n",
              "      <td>0.110089</td>\n",
              "      <td>0.027200</td>\n",
              "      <td>5781.845914</td>\n",
              "      <td>0.175936</td>\n",
              "      <td>0.070410</td>\n",
              "    </tr>\n",
              "    <tr>\n",
              "      <th>std</th>\n",
              "      <td>0.464273</td>\n",
              "      <td>7702.180566</td>\n",
              "      <td>24.455614</td>\n",
              "      <td>3.687284</td>\n",
              "      <td>5.153170e+04</td>\n",
              "      <td>634.119410</td>\n",
              "      <td>7.075747</td>\n",
              "      <td>14.790530</td>\n",
              "      <td>4.982982</td>\n",
              "      <td>0.460731</td>\n",
              "      <td>1.966506e+04</td>\n",
              "      <td>8.490012e+05</td>\n",
              "      <td>0.335920</td>\n",
              "      <td>0.245939</td>\n",
              "      <td>4294.308308</td>\n",
              "      <td>0.092729</td>\n",
              "      <td>0.203956</td>\n",
              "    </tr>\n",
              "    <tr>\n",
              "      <th>min</th>\n",
              "      <td>0.000000</td>\n",
              "      <td>505.000000</td>\n",
              "      <td>585.000000</td>\n",
              "      <td>0.000000</td>\n",
              "      <td>0.000000e+00</td>\n",
              "      <td>0.000000</td>\n",
              "      <td>3.400000</td>\n",
              "      <td>0.000000</td>\n",
              "      <td>0.000000</td>\n",
              "      <td>0.000000</td>\n",
              "      <td>0.000000e+00</td>\n",
              "      <td>0.000000e+00</td>\n",
              "      <td>0.000000</td>\n",
              "      <td>0.000000</td>\n",
              "      <td>0.000000</td>\n",
              "      <td>0.000000</td>\n",
              "      <td>0.000000</td>\n",
              "    </tr>\n",
              "    <tr>\n",
              "      <th>25%</th>\n",
              "      <td>0.000000</td>\n",
              "      <td>8299.000000</td>\n",
              "      <td>718.000000</td>\n",
              "      <td>2.000000</td>\n",
              "      <td>4.965700e+04</td>\n",
              "      <td>531.992500</td>\n",
              "      <td>13.500000</td>\n",
              "      <td>32.000000</td>\n",
              "      <td>8.000000</td>\n",
              "      <td>0.000000</td>\n",
              "      <td>5.974000e+03</td>\n",
              "      <td>1.274775e+04</td>\n",
              "      <td>0.000000</td>\n",
              "      <td>0.000000</td>\n",
              "      <td>4138.083333</td>\n",
              "      <td>0.110127</td>\n",
              "      <td>0.000000</td>\n",
              "    </tr>\n",
              "    <tr>\n",
              "      <th>50%</th>\n",
              "      <td>1.000000</td>\n",
              "      <td>12058.000000</td>\n",
              "      <td>730.000000</td>\n",
              "      <td>6.000000</td>\n",
              "      <td>6.124200e+04</td>\n",
              "      <td>844.520000</td>\n",
              "      <td>17.000000</td>\n",
              "      <td>32.000000</td>\n",
              "      <td>10.000000</td>\n",
              "      <td>0.000000</td>\n",
              "      <td>1.107800e+04</td>\n",
              "      <td>2.167200e+04</td>\n",
              "      <td>0.000000</td>\n",
              "      <td>0.000000</td>\n",
              "      <td>5103.500000</td>\n",
              "      <td>0.168000</td>\n",
              "      <td>0.000000</td>\n",
              "    </tr>\n",
              "    <tr>\n",
              "      <th>75%</th>\n",
              "      <td>1.000000</td>\n",
              "      <td>17793.000000</td>\n",
              "      <td>738.000000</td>\n",
              "      <td>10.000000</td>\n",
              "      <td>7.689325e+04</td>\n",
              "      <td>1252.452500</td>\n",
              "      <td>21.700000</td>\n",
              "      <td>32.000000</td>\n",
              "      <td>14.000000</td>\n",
              "      <td>0.000000</td>\n",
              "      <td>1.931900e+04</td>\n",
              "      <td>3.590325e+04</td>\n",
              "      <td>0.000000</td>\n",
              "      <td>0.000000</td>\n",
              "      <td>6407.770833</td>\n",
              "      <td>0.231000</td>\n",
              "      <td>0.000000</td>\n",
              "    </tr>\n",
              "    <tr>\n",
              "      <th>max</th>\n",
              "      <td>1.000000</td>\n",
              "      <td>41000.000000</td>\n",
              "      <td>751.000000</td>\n",
              "      <td>10.000000</td>\n",
              "      <td>8.713547e+06</td>\n",
              "      <td>22939.120000</td>\n",
              "      <td>70.500000</td>\n",
              "      <td>176.000000</td>\n",
              "      <td>76.000000</td>\n",
              "      <td>11.000000</td>\n",
              "      <td>1.731412e+06</td>\n",
              "      <td>1.516913e+08</td>\n",
              "      <td>7.000000</td>\n",
              "      <td>11.000000</td>\n",
              "      <td>726128.916667</td>\n",
              "      <td>2.173164</td>\n",
              "      <td>1.281033</td>\n",
              "    </tr>\n",
              "  </tbody>\n",
              "</table>\n",
              "</div>"
            ],
            "text/plain": [
              "         Loan Status  Current Loan Amount  ...  Aylık Borç Oranı  Credit Utilization\n",
              "count  256984.000000        256984.000000  ...     256984.000000       256984.000000\n",
              "mean        0.685611         13716.392347  ...          0.175936            0.070410\n",
              "std         0.464273          7702.180566  ...          0.092729            0.203956\n",
              "min         0.000000           505.000000  ...          0.000000            0.000000\n",
              "25%         0.000000          8299.000000  ...          0.110127            0.000000\n",
              "50%         1.000000         12058.000000  ...          0.168000            0.000000\n",
              "75%         1.000000         17793.000000  ...          0.231000            0.000000\n",
              "max         1.000000         41000.000000  ...          2.173164            1.281033\n",
              "\n",
              "[8 rows x 17 columns]"
            ]
          },
          "metadata": {
            "tags": []
          },
          "execution_count": 80
        }
      ]
    },
    {
      "cell_type": "code",
      "metadata": {
        "id": "H7Dyafk5zQRA"
      },
      "source": [
        "df = df[df[\"Aylık Gelir\"] < (df[\"Aylık Gelir\"].mean() + (3 * df[\"Aylık Gelir\"].std()))]\n",
        "df = df[df[\"Aylık Gelir\"] > (df[\"Aylık Gelir\"].mean() - (3 * df[\"Aylık Gelir\"].std()))]"
      ],
      "execution_count": null,
      "outputs": []
    },
    {
      "cell_type": "code",
      "metadata": {
        "id": "j6oUbOkpzQRA"
      },
      "source": [
        "df = df[df[\"Monthly Debt\"] < (df[\"Monthly Debt\"].mean() + (3 * df[\"Monthly Debt\"].std()))]\n",
        "df = df[df[\"Monthly Debt\"] > (df[\"Monthly Debt\"].mean() - (3 * df[\"Monthly Debt\"].std()))]"
      ],
      "execution_count": null,
      "outputs": []
    },
    {
      "cell_type": "code",
      "metadata": {
        "id": "d74P72qRzQRA"
      },
      "source": [
        "df = df[df[\"Number of Open Accounts\"] < (df[\"Number of Open Accounts\"].mean() + (3 * df[\"Number of Open Accounts\"].std()))]\n",
        "df = df[df[\"Number of Open Accounts\"] > (df[\"Number of Open Accounts\"].mean() - (3 * df[\"Number of Open Accounts\"].std()))]"
      ],
      "execution_count": null,
      "outputs": []
    },
    {
      "cell_type": "code",
      "metadata": {
        "id": "lE0n9IsSzQRA"
      },
      "source": [
        "df = df[df[\"Months since last delinquent\"] < (df[\"Months since last delinquent\"].mean() + (3 * df[\"Months since last delinquent\"].std()))]\n",
        "df = df[df[\"Months since last delinquent\"] > (df[\"Months since last delinquent\"].mean() - (3 * df[\"Months since last delinquent\"].std()))]"
      ],
      "execution_count": null,
      "outputs": []
    },
    {
      "cell_type": "code",
      "metadata": {
        "id": "z-kpyPD8zQRA"
      },
      "source": [
        "df = df[df[\"Number of Credit Problems\"] < (df[\"Number of Credit Problems\"].mean() + (3 * df[\"Number of Credit Problems\"].std()))]\n",
        "df = df[df[\"Number of Credit Problems\"] > (df[\"Number of Credit Problems\"].mean() - (3 * df[\"Number of Credit Problems\"].std()))]"
      ],
      "execution_count": null,
      "outputs": []
    },
    {
      "cell_type": "code",
      "metadata": {
        "id": "OdxTW2v_zQRB"
      },
      "source": [
        "df = df[df[\"Aylık Borç Oranı\"] < (df[\"Aylık Borç Oranı\"].mean() + (3 * df[\"Aylık Borç Oranı\"].std()))]\n",
        "df = df[df[\"Aylık Borç Oranı\"] > (df[\"Aylık Borç Oranı\"].mean() - (3 * df[\"Aylık Borç Oranı\"].std()))]"
      ],
      "execution_count": null,
      "outputs": []
    },
    {
      "cell_type": "code",
      "metadata": {
        "id": "6bNUAZqYzQRB"
      },
      "source": [
        "df = df[df[\"Bankruptcies\"] < 2]\n",
        "df = df[df[\"Tax Liens\"] < 2]"
      ],
      "execution_count": null,
      "outputs": []
    },
    {
      "cell_type": "markdown",
      "metadata": {
        "id": "BLc46ywZzQRB"
      },
      "source": [
        "## Getting Dummies"
      ]
    },
    {
      "cell_type": "code",
      "metadata": {
        "id": "lf5HFmITzQRB"
      },
      "source": [
        "X_new = df[[\"Credit Score\", \"Aylık Gelir\", \"Years of Credit History\", \"Years in current job\", \"Months since last delinquent\", \"Current Loan Amount\", \"Monthly Debt\", \"Number of Open Accounts\", \"Aylık Borç Oranı\", \"Credit Utilization\"]]"
      ],
      "execution_count": null,
      "outputs": []
    },
    {
      "cell_type": "code",
      "metadata": {
        "id": "389Fh6nAzQRB"
      },
      "source": [
        "X_new_dummies = pd.get_dummies(X_new, drop_first=True)"
      ],
      "execution_count": null,
      "outputs": []
    },
    {
      "cell_type": "code",
      "metadata": {
        "colab": {
          "base_uri": "https://localhost:8080/"
        },
        "id": "ZljPWBq4zQRB",
        "outputId": "b3625a83-7be5-4af3-80ae-28a3bc55c49f"
      },
      "source": [
        "X_new_dummies.info()"
      ],
      "execution_count": null,
      "outputs": [
        {
          "output_type": "stream",
          "text": [
            "<class 'pandas.core.frame.DataFrame'>\n",
            "Index: 239455 entries, 000025bb-5694-4cff-b17d-192b1a98ba44 : 5ebc8bb1-5eb9-4404-b11b-a6eebc401a19 to ffffe32e-ed17-459f-9cfd-7b9ee7972933 : 97281336-1e45-41d2-acb2-263ce56a590e\n",
            "Data columns (total 10 columns):\n",
            " #   Column                        Non-Null Count   Dtype  \n",
            "---  ------                        --------------   -----  \n",
            " 0   Credit Score                  239455 non-null  int16  \n",
            " 1   Aylık Gelir                   239455 non-null  float64\n",
            " 2   Years of Credit History       239455 non-null  float64\n",
            " 3   Years in current job          239455 non-null  float64\n",
            " 4   Months since last delinquent  239455 non-null  float64\n",
            " 5   Current Loan Amount           239455 non-null  float64\n",
            " 6   Monthly Debt                  239455 non-null  float64\n",
            " 7   Number of Open Accounts       239455 non-null  uint8  \n",
            " 8   Aylık Borç Oranı              239455 non-null  float64\n",
            " 9   Credit Utilization            239455 non-null  float64\n",
            "dtypes: float64(8), int16(1), uint8(1)\n",
            "memory usage: 17.1+ MB\n"
          ],
          "name": "stdout"
        }
      ]
    },
    {
      "cell_type": "code",
      "metadata": {
        "id": "TXVQO9uuzQRC"
      },
      "source": [
        "df.drop_duplicates(subset=[\"Loan ID\", \"Customer ID\"], inplace = True)"
      ],
      "execution_count": null,
      "outputs": []
    },
    {
      "cell_type": "code",
      "metadata": {
        "id": "jugfvdDfzQRC"
      },
      "source": [
        "df.drop('Loan ID', inplace=True, axis=1)"
      ],
      "execution_count": null,
      "outputs": []
    },
    {
      "cell_type": "code",
      "metadata": {
        "id": "trbo_jhczQRC"
      },
      "source": [
        "df.drop('Customer ID', inplace=True, axis=1)"
      ],
      "execution_count": null,
      "outputs": []
    },
    {
      "cell_type": "code",
      "metadata": {
        "id": "AWWLWNaPzQRC"
      },
      "source": [
        "df.drop([\"Current Credit Balance\", \"Maximum Open Credit\"], axis = 1, inplace = True)"
      ],
      "execution_count": null,
      "outputs": []
    },
    {
      "cell_type": "code",
      "metadata": {
        "id": "CWghZrM0zQRD"
      },
      "source": [
        "df_new = pd.get_dummies(df, drop_first = True)"
      ],
      "execution_count": null,
      "outputs": []
    },
    {
      "cell_type": "code",
      "metadata": {
        "colab": {
          "base_uri": "https://localhost:8080/"
        },
        "id": "Y9pKSsuxzQRD",
        "outputId": "68d4e37f-fa3a-4d12-d9c2-351ec4f52280"
      },
      "source": [
        "df.info()"
      ],
      "execution_count": null,
      "outputs": [
        {
          "output_type": "stream",
          "text": [
            "<class 'pandas.core.frame.DataFrame'>\n",
            "Index: 201157 entries, 000025bb-5694-4cff-b17d-192b1a98ba44 : 5ebc8bb1-5eb9-4404-b11b-a6eebc401a19 to ffffe32e-ed17-459f-9cfd-7b9ee7972933 : 97281336-1e45-41d2-acb2-263ce56a590e\n",
            "Data columns (total 18 columns):\n",
            " #   Column                        Non-Null Count   Dtype   \n",
            "---  ------                        --------------   -----   \n",
            " 0   Loan Status                   201157 non-null  uint8   \n",
            " 1   Current Loan Amount           201157 non-null  float64 \n",
            " 2   Term                          201157 non-null  category\n",
            " 3   Credit Score                  201157 non-null  int16   \n",
            " 4   Years in current job          201157 non-null  float64 \n",
            " 5   Home Ownership                201157 non-null  category\n",
            " 6   Annual Income                 201157 non-null  float64 \n",
            " 7   Purpose                       201157 non-null  category\n",
            " 8   Monthly Debt                  201157 non-null  float64 \n",
            " 9   Years of Credit History       201157 non-null  float64 \n",
            " 10  Months since last delinquent  201157 non-null  float64 \n",
            " 11  Number of Open Accounts       201157 non-null  uint8   \n",
            " 12  Number of Credit Problems     201157 non-null  uint8   \n",
            " 13  Bankruptcies                  201157 non-null  float64 \n",
            " 14  Tax Liens                     201157 non-null  float64 \n",
            " 15  Aylık Gelir                   201157 non-null  float64 \n",
            " 16  Aylık Borç Oranı              201157 non-null  float64 \n",
            " 17  Credit Utilization            201157 non-null  float64 \n",
            "dtypes: category(3), float64(11), int16(1), uint8(3)\n",
            "memory usage: 20.0+ MB\n"
          ],
          "name": "stdout"
        }
      ]
    },
    {
      "cell_type": "code",
      "metadata": {
        "colab": {
          "base_uri": "https://localhost:8080/"
        },
        "id": "l-31L_YRzQRD",
        "outputId": "e68b10c1-3532-496c-e6c1-69528f02da9b"
      },
      "source": [
        "df.head()"
      ],
      "execution_count": null,
      "outputs": [
        {
          "output_type": "execute_result",
          "data": {
            "text/html": [
              "<div>\n",
              "<style scoped>\n",
              "    .dataframe tbody tr th:only-of-type {\n",
              "        vertical-align: middle;\n",
              "    }\n",
              "\n",
              "    .dataframe tbody tr th {\n",
              "        vertical-align: top;\n",
              "    }\n",
              "\n",
              "    .dataframe thead th {\n",
              "        text-align: right;\n",
              "    }\n",
              "</style>\n",
              "<table border=\"1\" class=\"dataframe\">\n",
              "  <thead>\n",
              "    <tr style=\"text-align: right;\">\n",
              "      <th></th>\n",
              "      <th>Loan Status</th>\n",
              "      <th>Current Loan Amount</th>\n",
              "      <th>Term</th>\n",
              "      <th>Credit Score</th>\n",
              "      <th>Years in current job</th>\n",
              "      <th>Home Ownership</th>\n",
              "      <th>Annual Income</th>\n",
              "      <th>Purpose</th>\n",
              "      <th>Monthly Debt</th>\n",
              "      <th>Years of Credit History</th>\n",
              "      <th>Months since last delinquent</th>\n",
              "      <th>Number of Open Accounts</th>\n",
              "      <th>Number of Credit Problems</th>\n",
              "      <th>Bankruptcies</th>\n",
              "      <th>Tax Liens</th>\n",
              "      <th>Aylık Gelir</th>\n",
              "      <th>Aylık Borç Oranı</th>\n",
              "      <th>Credit Utilization</th>\n",
              "    </tr>\n",
              "    <tr>\n",
              "      <th>ID</th>\n",
              "      <th></th>\n",
              "      <th></th>\n",
              "      <th></th>\n",
              "      <th></th>\n",
              "      <th></th>\n",
              "      <th></th>\n",
              "      <th></th>\n",
              "      <th></th>\n",
              "      <th></th>\n",
              "      <th></th>\n",
              "      <th></th>\n",
              "      <th></th>\n",
              "      <th></th>\n",
              "      <th></th>\n",
              "      <th></th>\n",
              "      <th></th>\n",
              "      <th></th>\n",
              "      <th></th>\n",
              "    </tr>\n",
              "  </thead>\n",
              "  <tbody>\n",
              "    <tr>\n",
              "      <th>000025bb-5694-4cff-b17d-192b1a98ba44 : 5ebc8bb1-5eb9-4404-b11b-a6eebc401a19</th>\n",
              "      <td>1</td>\n",
              "      <td>11520.0</td>\n",
              "      <td>Short Term</td>\n",
              "      <td>741</td>\n",
              "      <td>10.0</td>\n",
              "      <td>Home Mortgage</td>\n",
              "      <td>33694.0</td>\n",
              "      <td>Debt Consolidation</td>\n",
              "      <td>584.03</td>\n",
              "      <td>12.3</td>\n",
              "      <td>41.0</td>\n",
              "      <td>10</td>\n",
              "      <td>0</td>\n",
              "      <td>0.0</td>\n",
              "      <td>0.0</td>\n",
              "      <td>2807.833333</td>\n",
              "      <td>0.208000</td>\n",
              "      <td>0.0</td>\n",
              "    </tr>\n",
              "    <tr>\n",
              "      <th>00002c49-3a29-4bd4-8f67-c8f8fbc1048c : 927b388d-2e01-423f-a8dc-f7e42d668f46</th>\n",
              "      <td>1</td>\n",
              "      <td>3441.0</td>\n",
              "      <td>Short Term</td>\n",
              "      <td>734</td>\n",
              "      <td>4.0</td>\n",
              "      <td>Home Mortgage</td>\n",
              "      <td>42269.0</td>\n",
              "      <td>Other</td>\n",
              "      <td>1106.04</td>\n",
              "      <td>26.3</td>\n",
              "      <td>32.0</td>\n",
              "      <td>17</td>\n",
              "      <td>0</td>\n",
              "      <td>0.0</td>\n",
              "      <td>0.0</td>\n",
              "      <td>3522.416667</td>\n",
              "      <td>0.314000</td>\n",
              "      <td>0.0</td>\n",
              "    </tr>\n",
              "    <tr>\n",
              "      <th>00002d89-27f3-409b-aa76-90834f359a65 : defce609-c631-447d-aad6-1270615e89c4</th>\n",
              "      <td>1</td>\n",
              "      <td>21029.0</td>\n",
              "      <td>Short Term</td>\n",
              "      <td>747</td>\n",
              "      <td>10.0</td>\n",
              "      <td>Home Mortgage</td>\n",
              "      <td>90126.0</td>\n",
              "      <td>Debt Consolidation</td>\n",
              "      <td>1321.85</td>\n",
              "      <td>28.8</td>\n",
              "      <td>32.0</td>\n",
              "      <td>5</td>\n",
              "      <td>0</td>\n",
              "      <td>0.0</td>\n",
              "      <td>0.0</td>\n",
              "      <td>7510.500000</td>\n",
              "      <td>0.176000</td>\n",
              "      <td>0.0</td>\n",
              "    </tr>\n",
              "    <tr>\n",
              "      <th>00005222-b4d8-45a4-ad8c-186057e24233 : 070bcecb-aae7-4485-a26a-e0403e7bb6c5</th>\n",
              "      <td>1</td>\n",
              "      <td>18743.0</td>\n",
              "      <td>Short Term</td>\n",
              "      <td>747</td>\n",
              "      <td>10.0</td>\n",
              "      <td>Own Home</td>\n",
              "      <td>38072.0</td>\n",
              "      <td>Debt Consolidation</td>\n",
              "      <td>751.92</td>\n",
              "      <td>26.2</td>\n",
              "      <td>32.0</td>\n",
              "      <td>9</td>\n",
              "      <td>0</td>\n",
              "      <td>0.0</td>\n",
              "      <td>0.0</td>\n",
              "      <td>3172.666667</td>\n",
              "      <td>0.236999</td>\n",
              "      <td>0.0</td>\n",
              "    </tr>\n",
              "    <tr>\n",
              "      <th>0000757f-a121-41ed-b17b-162e76647c1f : dde79588-12f0-4811-bab0-e2b07f633fcd</th>\n",
              "      <td>1</td>\n",
              "      <td>11731.0</td>\n",
              "      <td>Short Term</td>\n",
              "      <td>746</td>\n",
              "      <td>4.0</td>\n",
              "      <td>Rent</td>\n",
              "      <td>50025.0</td>\n",
              "      <td>Debt Consolidation</td>\n",
              "      <td>355.18</td>\n",
              "      <td>11.5</td>\n",
              "      <td>32.0</td>\n",
              "      <td>12</td>\n",
              "      <td>0</td>\n",
              "      <td>0.0</td>\n",
              "      <td>0.0</td>\n",
              "      <td>4168.750000</td>\n",
              "      <td>0.085201</td>\n",
              "      <td>0.0</td>\n",
              "    </tr>\n",
              "  </tbody>\n",
              "</table>\n",
              "</div>"
            ],
            "text/plain": [
              "                                                    Loan Status  ...  Credit Utilization\n",
              "ID                                                               ...                    \n",
              "000025bb-5694-4cff-b17d-192b1a98ba44 : 5ebc8bb1...            1  ...                 0.0\n",
              "00002c49-3a29-4bd4-8f67-c8f8fbc1048c : 927b388d...            1  ...                 0.0\n",
              "00002d89-27f3-409b-aa76-90834f359a65 : defce609...            1  ...                 0.0\n",
              "00005222-b4d8-45a4-ad8c-186057e24233 : 070bcecb...            1  ...                 0.0\n",
              "0000757f-a121-41ed-b17b-162e76647c1f : dde79588...            1  ...                 0.0\n",
              "\n",
              "[5 rows x 18 columns]"
            ]
          },
          "metadata": {
            "tags": []
          },
          "execution_count": 97
        }
      ]
    },
    {
      "cell_type": "code",
      "metadata": {
        "colab": {
          "base_uri": "https://localhost:8080/"
        },
        "id": "Z136ZuAgzQRD",
        "outputId": "cb1c1f58-4fb9-4de3-87f8-f2901b250689"
      },
      "source": [
        "df_new.info()"
      ],
      "execution_count": null,
      "outputs": [
        {
          "output_type": "stream",
          "text": [
            "<class 'pandas.core.frame.DataFrame'>\n",
            "Index: 201157 entries, 000025bb-5694-4cff-b17d-192b1a98ba44 : 5ebc8bb1-5eb9-4404-b11b-a6eebc401a19 to ffffe32e-ed17-459f-9cfd-7b9ee7972933 : 97281336-1e45-41d2-acb2-263ce56a590e\n",
            "Data columns (total 26 columns):\n",
            " #   Column                        Non-Null Count   Dtype  \n",
            "---  ------                        --------------   -----  \n",
            " 0   Loan Status                   201157 non-null  uint8  \n",
            " 1   Current Loan Amount           201157 non-null  float64\n",
            " 2   Credit Score                  201157 non-null  int16  \n",
            " 3   Years in current job          201157 non-null  float64\n",
            " 4   Annual Income                 201157 non-null  float64\n",
            " 5   Monthly Debt                  201157 non-null  float64\n",
            " 6   Years of Credit History       201157 non-null  float64\n",
            " 7   Months since last delinquent  201157 non-null  float64\n",
            " 8   Number of Open Accounts       201157 non-null  uint8  \n",
            " 9   Number of Credit Problems     201157 non-null  uint8  \n",
            " 10  Bankruptcies                  201157 non-null  float64\n",
            " 11  Tax Liens                     201157 non-null  float64\n",
            " 12  Aylık Gelir                   201157 non-null  float64\n",
            " 13  Aylık Borç Oranı              201157 non-null  float64\n",
            " 14  Credit Utilization            201157 non-null  float64\n",
            " 15  Term_Short Term               201157 non-null  uint8  \n",
            " 16  Home Ownership_Own Home       201157 non-null  uint8  \n",
            " 17  Home Ownership_Rent           201157 non-null  uint8  \n",
            " 18  Purpose_Buy House             201157 non-null  uint8  \n",
            " 19  Purpose_Buy a Car             201157 non-null  uint8  \n",
            " 20  Purpose_Debt Consolidation    201157 non-null  uint8  \n",
            " 21  Purpose_Educational Expenses  201157 non-null  uint8  \n",
            " 22  Purpose_Home Improvements     201157 non-null  uint8  \n",
            " 23  Purpose_Medical Bills         201157 non-null  uint8  \n",
            " 24  Purpose_Other                 201157 non-null  uint8  \n",
            " 25  Purpose_Take a Trip           201157 non-null  uint8  \n",
            "dtypes: float64(11), int16(1), uint8(14)\n",
            "memory usage: 21.5+ MB\n"
          ],
          "name": "stdout"
        }
      ]
    },
    {
      "cell_type": "code",
      "metadata": {
        "colab": {
          "base_uri": "https://localhost:8080/"
        },
        "id": "eMQE1uGDzQRD",
        "outputId": "7deb981c-60a8-4c4b-f330-ea8ae08d07d5"
      },
      "source": [
        "abs(df.corr()[\"Loan Status\"].sort_values(ascending=False))"
      ],
      "execution_count": null,
      "outputs": [
        {
          "output_type": "execute_result",
          "data": {
            "text/plain": [
              "Loan Status                     1.000000\n",
              "Credit Score                    0.181305\n",
              "Aylık Gelir                     0.072136\n",
              "Annual Income                   0.072136\n",
              "Years of Credit History         0.028392\n",
              "Years in current job            0.015740\n",
              "Months since last delinquent    0.014744\n",
              "Bankruptcies                    0.000484\n",
              "Number of Credit Problems       0.005560\n",
              "Tax Liens                       0.007153\n",
              "Credit Utilization              0.014681\n",
              "Number of Open Accounts         0.018155\n",
              "Monthly Debt                    0.025139\n",
              "Current Loan Amount             0.079180\n",
              "Aylık Borç Oranı                0.088359\n",
              "Name: Loan Status, dtype: float64"
            ]
          },
          "metadata": {
            "tags": []
          },
          "execution_count": 99
        }
      ]
    },
    {
      "cell_type": "code",
      "metadata": {
        "colab": {
          "base_uri": "https://localhost:8080/"
        },
        "id": "qqArmlHKzQRE",
        "outputId": "fc0ab8b4-f297-4cc8-a8c2-61a73e777eed"
      },
      "source": [
        "df.info()"
      ],
      "execution_count": null,
      "outputs": [
        {
          "output_type": "stream",
          "text": [
            "<class 'pandas.core.frame.DataFrame'>\n",
            "Index: 201157 entries, 000025bb-5694-4cff-b17d-192b1a98ba44 : 5ebc8bb1-5eb9-4404-b11b-a6eebc401a19 to ffffe32e-ed17-459f-9cfd-7b9ee7972933 : 97281336-1e45-41d2-acb2-263ce56a590e\n",
            "Data columns (total 18 columns):\n",
            " #   Column                        Non-Null Count   Dtype   \n",
            "---  ------                        --------------   -----   \n",
            " 0   Loan Status                   201157 non-null  uint8   \n",
            " 1   Current Loan Amount           201157 non-null  float64 \n",
            " 2   Term                          201157 non-null  category\n",
            " 3   Credit Score                  201157 non-null  int16   \n",
            " 4   Years in current job          201157 non-null  float64 \n",
            " 5   Home Ownership                201157 non-null  category\n",
            " 6   Annual Income                 201157 non-null  float64 \n",
            " 7   Purpose                       201157 non-null  category\n",
            " 8   Monthly Debt                  201157 non-null  float64 \n",
            " 9   Years of Credit History       201157 non-null  float64 \n",
            " 10  Months since last delinquent  201157 non-null  float64 \n",
            " 11  Number of Open Accounts       201157 non-null  uint8   \n",
            " 12  Number of Credit Problems     201157 non-null  uint8   \n",
            " 13  Bankruptcies                  201157 non-null  float64 \n",
            " 14  Tax Liens                     201157 non-null  float64 \n",
            " 15  Aylık Gelir                   201157 non-null  float64 \n",
            " 16  Aylık Borç Oranı              201157 non-null  float64 \n",
            " 17  Credit Utilization            201157 non-null  float64 \n",
            "dtypes: category(3), float64(11), int16(1), uint8(3)\n",
            "memory usage: 20.0+ MB\n"
          ],
          "name": "stdout"
        }
      ]
    },
    {
      "cell_type": "code",
      "metadata": {
        "id": "NX8U5TrVzQRE"
      },
      "source": [
        "yenimusteri = pd.DataFrame({\"Loan Status\":[1,1,1,1,1,1,1,1,1],\n",
        "                            \"Current Loan Amount\": [5000.0, 5500.0, 5000.0, 5000.0, 5000.0, 5000.0, 5000.0, 5000.0, 5000.0],\n",
        "                            \"Term\":[\"Short Term\", \"Long Term\", \"Short Term\", \"Long Term\", \"Short Term\", \"Long Term\",\n",
        "                                   \"Short Term\", \"Long Term\",\"Short Term\"],\n",
        "                            \"Credit Score\": [750, 780, 750, 780, 750, 780, 750, 780, 740],\n",
        "                            \"Years in current job\": [10.0, 9.0, 10.0, 9.0, 10.0, 9.0, 10.0, 9.0, 10.0],\n",
        "                            \"Home Ownership\": [\"Home Mortgage\", \"Own Home\", \"Rent\", \"Own Home\", \"Own Home\", \"Rent\", \"Own Home\",\n",
        "                                              \"Own Home\", \"Own Home\"],\n",
        "                            \"Annual Income\": [85000.0, 84000.0, 78000.0, 85000.0, 84000.0, 78000.0, 85000.0, 84000.0, 78000.0],\n",
        "                            \"Purpose\": [\"Debt Consolidation\", \"Other\", \"Business Loan\", \"Home Improvements\", \n",
        "                                               \"Buy House\", \"Buy a Car\", \"Medical Bills\", \"Take a Trip\", \"Educational Expenses\"],\n",
        "                            \"Monthly Debt\": [1000.0, 1000.0, 1000.0, 1000.0, 1000.0, 1000.0, 1000.0, 1000.0, 1000.0],\n",
        "                            \"Years of Credit History\": [19.1, 18.0, 19.1, 18.0, 19.1, 18.0, 19.1, 18.0, 19.0],\n",
        "                            \"Months since last delinquent\": [47, 43, 45, 39, 29, 31, 33, 47, 44],\n",
        "                            \"Number of Open Accounts\": [8, 9, 5, 7, 1, 2, 4, 6, 6],\n",
        "                            \"Number of Credit Problems\": [0, 0, 0, 0, 1, 1, 0, 1, 0],\n",
        "                            \"Bankruptcies\": [0.0, 0.0, 0.0, 0.0, 0.0, 0.0, 0.0, 0.0, 0.0],\n",
        "                            \"Tax Liens\": [0.0, 0.0, 0.0, 0.0, 0.0, 0.0, 0.0, 0.0, 0.0],\n",
        "                            \"Aylık Gelir\": [7000.0, 7800.0, 7000.0, 7800.0, 7000.0, 7800.0, 7000.0, 7800.0, 7000.0],\n",
        "                            \"Aylık Borç Oranı\": [0.15, 0.12, 0.15, 0.12, 0.15, 0.12, 0.15, 0.12, 0.15],\n",
        "                            \"Credit Utilization\": [0.0, 0.0, 0.0, 0.0, 0.0, 0.0, 0.0, 0.0, 0.0]})"
      ],
      "execution_count": null,
      "outputs": []
    },
    {
      "cell_type": "code",
      "metadata": {
        "colab": {
          "base_uri": "https://localhost:8080/"
        },
        "id": "I8iLgporzQRE",
        "outputId": "f7e083fb-fa33-4dc4-e64f-802915bea66a"
      },
      "source": [
        "yenimusteri.info()"
      ],
      "execution_count": null,
      "outputs": [
        {
          "output_type": "stream",
          "text": [
            "<class 'pandas.core.frame.DataFrame'>\n",
            "RangeIndex: 9 entries, 0 to 8\n",
            "Data columns (total 18 columns):\n",
            " #   Column                        Non-Null Count  Dtype  \n",
            "---  ------                        --------------  -----  \n",
            " 0   Loan Status                   9 non-null      int64  \n",
            " 1   Current Loan Amount           9 non-null      float64\n",
            " 2   Term                          9 non-null      object \n",
            " 3   Credit Score                  9 non-null      int64  \n",
            " 4   Years in current job          9 non-null      float64\n",
            " 5   Home Ownership                9 non-null      object \n",
            " 6   Annual Income                 9 non-null      float64\n",
            " 7   Purpose                       9 non-null      object \n",
            " 8   Monthly Debt                  9 non-null      float64\n",
            " 9   Years of Credit History       9 non-null      float64\n",
            " 10  Months since last delinquent  9 non-null      int64  \n",
            " 11  Number of Open Accounts       9 non-null      int64  \n",
            " 12  Number of Credit Problems     9 non-null      int64  \n",
            " 13  Bankruptcies                  9 non-null      float64\n",
            " 14  Tax Liens                     9 non-null      float64\n",
            " 15  Aylık Gelir                   9 non-null      float64\n",
            " 16  Aylık Borç Oranı              9 non-null      float64\n",
            " 17  Credit Utilization            9 non-null      float64\n",
            "dtypes: float64(10), int64(5), object(3)\n",
            "memory usage: 1.4+ KB\n"
          ],
          "name": "stdout"
        }
      ]
    },
    {
      "cell_type": "code",
      "metadata": {
        "id": "XDJPtkkazQRF"
      },
      "source": [
        "CategoricalaCevir(yenimusteri, \"Term\")\n",
        "CategoricalaCevir(yenimusteri, \"Home Ownership\")\n",
        "CategoricalaCevir(yenimusteri, \"Purpose\")"
      ],
      "execution_count": null,
      "outputs": []
    },
    {
      "cell_type": "code",
      "metadata": {
        "id": "ku2Q4mowzQRF"
      },
      "source": [
        "yenimusteri_x = pd.get_dummies(yenimusteri, drop_first = True)"
      ],
      "execution_count": null,
      "outputs": []
    },
    {
      "cell_type": "code",
      "metadata": {
        "colab": {
          "base_uri": "https://localhost:8080/"
        },
        "id": "sUE2aplgzQRF",
        "outputId": "b229144d-11a5-4d43-e588-40ea0cfc3e69"
      },
      "source": [
        "yenimusteri_x"
      ],
      "execution_count": null,
      "outputs": [
        {
          "output_type": "execute_result",
          "data": {
            "text/html": [
              "<div>\n",
              "<style scoped>\n",
              "    .dataframe tbody tr th:only-of-type {\n",
              "        vertical-align: middle;\n",
              "    }\n",
              "\n",
              "    .dataframe tbody tr th {\n",
              "        vertical-align: top;\n",
              "    }\n",
              "\n",
              "    .dataframe thead th {\n",
              "        text-align: right;\n",
              "    }\n",
              "</style>\n",
              "<table border=\"1\" class=\"dataframe\">\n",
              "  <thead>\n",
              "    <tr style=\"text-align: right;\">\n",
              "      <th></th>\n",
              "      <th>Loan Status</th>\n",
              "      <th>Current Loan Amount</th>\n",
              "      <th>Credit Score</th>\n",
              "      <th>Years in current job</th>\n",
              "      <th>Annual Income</th>\n",
              "      <th>Monthly Debt</th>\n",
              "      <th>Years of Credit History</th>\n",
              "      <th>Months since last delinquent</th>\n",
              "      <th>Number of Open Accounts</th>\n",
              "      <th>Number of Credit Problems</th>\n",
              "      <th>Bankruptcies</th>\n",
              "      <th>Tax Liens</th>\n",
              "      <th>Aylık Gelir</th>\n",
              "      <th>Aylık Borç Oranı</th>\n",
              "      <th>Credit Utilization</th>\n",
              "      <th>Term_Short Term</th>\n",
              "      <th>Home Ownership_Own Home</th>\n",
              "      <th>Home Ownership_Rent</th>\n",
              "      <th>Purpose_Buy House</th>\n",
              "      <th>Purpose_Buy a Car</th>\n",
              "      <th>Purpose_Debt Consolidation</th>\n",
              "      <th>Purpose_Educational Expenses</th>\n",
              "      <th>Purpose_Home Improvements</th>\n",
              "      <th>Purpose_Medical Bills</th>\n",
              "      <th>Purpose_Other</th>\n",
              "      <th>Purpose_Take a Trip</th>\n",
              "    </tr>\n",
              "  </thead>\n",
              "  <tbody>\n",
              "    <tr>\n",
              "      <th>0</th>\n",
              "      <td>1</td>\n",
              "      <td>5000.0</td>\n",
              "      <td>750</td>\n",
              "      <td>10.0</td>\n",
              "      <td>85000.0</td>\n",
              "      <td>1000.0</td>\n",
              "      <td>19.1</td>\n",
              "      <td>47</td>\n",
              "      <td>8</td>\n",
              "      <td>0</td>\n",
              "      <td>0.0</td>\n",
              "      <td>0.0</td>\n",
              "      <td>7000.0</td>\n",
              "      <td>0.15</td>\n",
              "      <td>0.0</td>\n",
              "      <td>1</td>\n",
              "      <td>0</td>\n",
              "      <td>0</td>\n",
              "      <td>0</td>\n",
              "      <td>0</td>\n",
              "      <td>1</td>\n",
              "      <td>0</td>\n",
              "      <td>0</td>\n",
              "      <td>0</td>\n",
              "      <td>0</td>\n",
              "      <td>0</td>\n",
              "    </tr>\n",
              "    <tr>\n",
              "      <th>1</th>\n",
              "      <td>1</td>\n",
              "      <td>5500.0</td>\n",
              "      <td>780</td>\n",
              "      <td>9.0</td>\n",
              "      <td>84000.0</td>\n",
              "      <td>1000.0</td>\n",
              "      <td>18.0</td>\n",
              "      <td>43</td>\n",
              "      <td>9</td>\n",
              "      <td>0</td>\n",
              "      <td>0.0</td>\n",
              "      <td>0.0</td>\n",
              "      <td>7800.0</td>\n",
              "      <td>0.12</td>\n",
              "      <td>0.0</td>\n",
              "      <td>0</td>\n",
              "      <td>1</td>\n",
              "      <td>0</td>\n",
              "      <td>0</td>\n",
              "      <td>0</td>\n",
              "      <td>0</td>\n",
              "      <td>0</td>\n",
              "      <td>0</td>\n",
              "      <td>0</td>\n",
              "      <td>1</td>\n",
              "      <td>0</td>\n",
              "    </tr>\n",
              "    <tr>\n",
              "      <th>2</th>\n",
              "      <td>1</td>\n",
              "      <td>5000.0</td>\n",
              "      <td>750</td>\n",
              "      <td>10.0</td>\n",
              "      <td>78000.0</td>\n",
              "      <td>1000.0</td>\n",
              "      <td>19.1</td>\n",
              "      <td>45</td>\n",
              "      <td>5</td>\n",
              "      <td>0</td>\n",
              "      <td>0.0</td>\n",
              "      <td>0.0</td>\n",
              "      <td>7000.0</td>\n",
              "      <td>0.15</td>\n",
              "      <td>0.0</td>\n",
              "      <td>1</td>\n",
              "      <td>0</td>\n",
              "      <td>1</td>\n",
              "      <td>0</td>\n",
              "      <td>0</td>\n",
              "      <td>0</td>\n",
              "      <td>0</td>\n",
              "      <td>0</td>\n",
              "      <td>0</td>\n",
              "      <td>0</td>\n",
              "      <td>0</td>\n",
              "    </tr>\n",
              "    <tr>\n",
              "      <th>3</th>\n",
              "      <td>1</td>\n",
              "      <td>5000.0</td>\n",
              "      <td>780</td>\n",
              "      <td>9.0</td>\n",
              "      <td>85000.0</td>\n",
              "      <td>1000.0</td>\n",
              "      <td>18.0</td>\n",
              "      <td>39</td>\n",
              "      <td>7</td>\n",
              "      <td>0</td>\n",
              "      <td>0.0</td>\n",
              "      <td>0.0</td>\n",
              "      <td>7800.0</td>\n",
              "      <td>0.12</td>\n",
              "      <td>0.0</td>\n",
              "      <td>0</td>\n",
              "      <td>1</td>\n",
              "      <td>0</td>\n",
              "      <td>0</td>\n",
              "      <td>0</td>\n",
              "      <td>0</td>\n",
              "      <td>0</td>\n",
              "      <td>1</td>\n",
              "      <td>0</td>\n",
              "      <td>0</td>\n",
              "      <td>0</td>\n",
              "    </tr>\n",
              "    <tr>\n",
              "      <th>4</th>\n",
              "      <td>1</td>\n",
              "      <td>5000.0</td>\n",
              "      <td>750</td>\n",
              "      <td>10.0</td>\n",
              "      <td>84000.0</td>\n",
              "      <td>1000.0</td>\n",
              "      <td>19.1</td>\n",
              "      <td>29</td>\n",
              "      <td>1</td>\n",
              "      <td>1</td>\n",
              "      <td>0.0</td>\n",
              "      <td>0.0</td>\n",
              "      <td>7000.0</td>\n",
              "      <td>0.15</td>\n",
              "      <td>0.0</td>\n",
              "      <td>1</td>\n",
              "      <td>1</td>\n",
              "      <td>0</td>\n",
              "      <td>1</td>\n",
              "      <td>0</td>\n",
              "      <td>0</td>\n",
              "      <td>0</td>\n",
              "      <td>0</td>\n",
              "      <td>0</td>\n",
              "      <td>0</td>\n",
              "      <td>0</td>\n",
              "    </tr>\n",
              "    <tr>\n",
              "      <th>5</th>\n",
              "      <td>1</td>\n",
              "      <td>5000.0</td>\n",
              "      <td>780</td>\n",
              "      <td>9.0</td>\n",
              "      <td>78000.0</td>\n",
              "      <td>1000.0</td>\n",
              "      <td>18.0</td>\n",
              "      <td>31</td>\n",
              "      <td>2</td>\n",
              "      <td>1</td>\n",
              "      <td>0.0</td>\n",
              "      <td>0.0</td>\n",
              "      <td>7800.0</td>\n",
              "      <td>0.12</td>\n",
              "      <td>0.0</td>\n",
              "      <td>0</td>\n",
              "      <td>0</td>\n",
              "      <td>1</td>\n",
              "      <td>0</td>\n",
              "      <td>1</td>\n",
              "      <td>0</td>\n",
              "      <td>0</td>\n",
              "      <td>0</td>\n",
              "      <td>0</td>\n",
              "      <td>0</td>\n",
              "      <td>0</td>\n",
              "    </tr>\n",
              "    <tr>\n",
              "      <th>6</th>\n",
              "      <td>1</td>\n",
              "      <td>5000.0</td>\n",
              "      <td>750</td>\n",
              "      <td>10.0</td>\n",
              "      <td>85000.0</td>\n",
              "      <td>1000.0</td>\n",
              "      <td>19.1</td>\n",
              "      <td>33</td>\n",
              "      <td>4</td>\n",
              "      <td>0</td>\n",
              "      <td>0.0</td>\n",
              "      <td>0.0</td>\n",
              "      <td>7000.0</td>\n",
              "      <td>0.15</td>\n",
              "      <td>0.0</td>\n",
              "      <td>1</td>\n",
              "      <td>1</td>\n",
              "      <td>0</td>\n",
              "      <td>0</td>\n",
              "      <td>0</td>\n",
              "      <td>0</td>\n",
              "      <td>0</td>\n",
              "      <td>0</td>\n",
              "      <td>1</td>\n",
              "      <td>0</td>\n",
              "      <td>0</td>\n",
              "    </tr>\n",
              "    <tr>\n",
              "      <th>7</th>\n",
              "      <td>1</td>\n",
              "      <td>5000.0</td>\n",
              "      <td>780</td>\n",
              "      <td>9.0</td>\n",
              "      <td>84000.0</td>\n",
              "      <td>1000.0</td>\n",
              "      <td>18.0</td>\n",
              "      <td>47</td>\n",
              "      <td>6</td>\n",
              "      <td>1</td>\n",
              "      <td>0.0</td>\n",
              "      <td>0.0</td>\n",
              "      <td>7800.0</td>\n",
              "      <td>0.12</td>\n",
              "      <td>0.0</td>\n",
              "      <td>0</td>\n",
              "      <td>1</td>\n",
              "      <td>0</td>\n",
              "      <td>0</td>\n",
              "      <td>0</td>\n",
              "      <td>0</td>\n",
              "      <td>0</td>\n",
              "      <td>0</td>\n",
              "      <td>0</td>\n",
              "      <td>0</td>\n",
              "      <td>1</td>\n",
              "    </tr>\n",
              "    <tr>\n",
              "      <th>8</th>\n",
              "      <td>1</td>\n",
              "      <td>5000.0</td>\n",
              "      <td>740</td>\n",
              "      <td>10.0</td>\n",
              "      <td>78000.0</td>\n",
              "      <td>1000.0</td>\n",
              "      <td>19.0</td>\n",
              "      <td>44</td>\n",
              "      <td>6</td>\n",
              "      <td>0</td>\n",
              "      <td>0.0</td>\n",
              "      <td>0.0</td>\n",
              "      <td>7000.0</td>\n",
              "      <td>0.15</td>\n",
              "      <td>0.0</td>\n",
              "      <td>1</td>\n",
              "      <td>1</td>\n",
              "      <td>0</td>\n",
              "      <td>0</td>\n",
              "      <td>0</td>\n",
              "      <td>0</td>\n",
              "      <td>1</td>\n",
              "      <td>0</td>\n",
              "      <td>0</td>\n",
              "      <td>0</td>\n",
              "      <td>0</td>\n",
              "    </tr>\n",
              "  </tbody>\n",
              "</table>\n",
              "</div>"
            ],
            "text/plain": [
              "   Loan Status  Current Loan Amount  ...  Purpose_Other  Purpose_Take a Trip\n",
              "0            1               5000.0  ...              0                    0\n",
              "1            1               5500.0  ...              1                    0\n",
              "2            1               5000.0  ...              0                    0\n",
              "3            1               5000.0  ...              0                    0\n",
              "4            1               5000.0  ...              0                    0\n",
              "5            1               5000.0  ...              0                    0\n",
              "6            1               5000.0  ...              0                    0\n",
              "7            1               5000.0  ...              0                    1\n",
              "8            1               5000.0  ...              0                    0\n",
              "\n",
              "[9 rows x 26 columns]"
            ]
          },
          "metadata": {
            "tags": []
          },
          "execution_count": 105
        }
      ]
    },
    {
      "cell_type": "code",
      "metadata": {
        "colab": {
          "base_uri": "https://localhost:8080/"
        },
        "id": "rIZsRIwGzQRG",
        "outputId": "98d946b6-d7d6-4581-e2fc-58b6e6d9ffcc"
      },
      "source": [
        "df[\"Home Ownership\"].unique()"
      ],
      "execution_count": null,
      "outputs": [
        {
          "output_type": "execute_result",
          "data": {
            "text/plain": [
              "['Home Mortgage', 'Own Home', 'Rent']\n",
              "Categories (3, object): ['Home Mortgage', 'Own Home', 'Rent']"
            ]
          },
          "metadata": {
            "tags": []
          },
          "execution_count": 106
        }
      ]
    },
    {
      "cell_type": "markdown",
      "metadata": {
        "id": "fPoc_LZPzQRG"
      },
      "source": [
        "## Prediction Time"
      ]
    },
    {
      "cell_type": "code",
      "metadata": {
        "id": "tW1_KPUHzQRG"
      },
      "source": [
        "y = df_new[\"Loan Status\"] #Target"
      ],
      "execution_count": null,
      "outputs": []
    },
    {
      "cell_type": "code",
      "metadata": {
        "id": "q8OMlA3UzQRG"
      },
      "source": [
        "X = df_new.drop(\"Loan Status\", axis=1)"
      ],
      "execution_count": null,
      "outputs": []
    },
    {
      "cell_type": "code",
      "metadata": {
        "colab": {
          "base_uri": "https://localhost:8080/",
          "height": 1000
        },
        "id": "aYRvcoJezQRH",
        "outputId": "7f1ec80c-c9bb-406c-9c5e-ae2a75e8a0bd"
      },
      "source": [
        "X"
      ],
      "execution_count": null,
      "outputs": [
        {
          "output_type": "execute_result",
          "data": {
            "text/html": [
              "<div>\n",
              "<style scoped>\n",
              "    .dataframe tbody tr th:only-of-type {\n",
              "        vertical-align: middle;\n",
              "    }\n",
              "\n",
              "    .dataframe tbody tr th {\n",
              "        vertical-align: top;\n",
              "    }\n",
              "\n",
              "    .dataframe thead th {\n",
              "        text-align: right;\n",
              "    }\n",
              "</style>\n",
              "<table border=\"1\" class=\"dataframe\">\n",
              "  <thead>\n",
              "    <tr style=\"text-align: right;\">\n",
              "      <th></th>\n",
              "      <th>Current Loan Amount</th>\n",
              "      <th>Credit Score</th>\n",
              "      <th>Years in current job</th>\n",
              "      <th>Annual Income</th>\n",
              "      <th>Monthly Debt</th>\n",
              "      <th>Years of Credit History</th>\n",
              "      <th>Months since last delinquent</th>\n",
              "      <th>Number of Open Accounts</th>\n",
              "      <th>Number of Credit Problems</th>\n",
              "      <th>Bankruptcies</th>\n",
              "      <th>Tax Liens</th>\n",
              "      <th>Aylık Gelir</th>\n",
              "      <th>Aylık Borç Oranı</th>\n",
              "      <th>Credit Utilization</th>\n",
              "      <th>Term_Short Term</th>\n",
              "      <th>Home Ownership_Own Home</th>\n",
              "      <th>Home Ownership_Rent</th>\n",
              "      <th>Purpose_Buy House</th>\n",
              "      <th>Purpose_Buy a Car</th>\n",
              "      <th>Purpose_Debt Consolidation</th>\n",
              "      <th>Purpose_Educational Expenses</th>\n",
              "      <th>Purpose_Home Improvements</th>\n",
              "      <th>Purpose_Medical Bills</th>\n",
              "      <th>Purpose_Other</th>\n",
              "      <th>Purpose_Take a Trip</th>\n",
              "    </tr>\n",
              "    <tr>\n",
              "      <th>ID</th>\n",
              "      <th></th>\n",
              "      <th></th>\n",
              "      <th></th>\n",
              "      <th></th>\n",
              "      <th></th>\n",
              "      <th></th>\n",
              "      <th></th>\n",
              "      <th></th>\n",
              "      <th></th>\n",
              "      <th></th>\n",
              "      <th></th>\n",
              "      <th></th>\n",
              "      <th></th>\n",
              "      <th></th>\n",
              "      <th></th>\n",
              "      <th></th>\n",
              "      <th></th>\n",
              "      <th></th>\n",
              "      <th></th>\n",
              "      <th></th>\n",
              "      <th></th>\n",
              "      <th></th>\n",
              "      <th></th>\n",
              "      <th></th>\n",
              "      <th></th>\n",
              "    </tr>\n",
              "  </thead>\n",
              "  <tbody>\n",
              "    <tr>\n",
              "      <th>000025bb-5694-4cff-b17d-192b1a98ba44 : 5ebc8bb1-5eb9-4404-b11b-a6eebc401a19</th>\n",
              "      <td>11520.0</td>\n",
              "      <td>741</td>\n",
              "      <td>10.0</td>\n",
              "      <td>33694.0</td>\n",
              "      <td>584.03</td>\n",
              "      <td>12.3</td>\n",
              "      <td>41.0</td>\n",
              "      <td>10</td>\n",
              "      <td>0</td>\n",
              "      <td>0.0</td>\n",
              "      <td>0.0</td>\n",
              "      <td>2807.833333</td>\n",
              "      <td>0.208000</td>\n",
              "      <td>0.0</td>\n",
              "      <td>1</td>\n",
              "      <td>0</td>\n",
              "      <td>0</td>\n",
              "      <td>0</td>\n",
              "      <td>0</td>\n",
              "      <td>1</td>\n",
              "      <td>0</td>\n",
              "      <td>0</td>\n",
              "      <td>0</td>\n",
              "      <td>0</td>\n",
              "      <td>0</td>\n",
              "    </tr>\n",
              "    <tr>\n",
              "      <th>00002c49-3a29-4bd4-8f67-c8f8fbc1048c : 927b388d-2e01-423f-a8dc-f7e42d668f46</th>\n",
              "      <td>3441.0</td>\n",
              "      <td>734</td>\n",
              "      <td>4.0</td>\n",
              "      <td>42269.0</td>\n",
              "      <td>1106.04</td>\n",
              "      <td>26.3</td>\n",
              "      <td>32.0</td>\n",
              "      <td>17</td>\n",
              "      <td>0</td>\n",
              "      <td>0.0</td>\n",
              "      <td>0.0</td>\n",
              "      <td>3522.416667</td>\n",
              "      <td>0.314000</td>\n",
              "      <td>0.0</td>\n",
              "      <td>1</td>\n",
              "      <td>0</td>\n",
              "      <td>0</td>\n",
              "      <td>0</td>\n",
              "      <td>0</td>\n",
              "      <td>0</td>\n",
              "      <td>0</td>\n",
              "      <td>0</td>\n",
              "      <td>0</td>\n",
              "      <td>1</td>\n",
              "      <td>0</td>\n",
              "    </tr>\n",
              "    <tr>\n",
              "      <th>00002d89-27f3-409b-aa76-90834f359a65 : defce609-c631-447d-aad6-1270615e89c4</th>\n",
              "      <td>21029.0</td>\n",
              "      <td>747</td>\n",
              "      <td>10.0</td>\n",
              "      <td>90126.0</td>\n",
              "      <td>1321.85</td>\n",
              "      <td>28.8</td>\n",
              "      <td>32.0</td>\n",
              "      <td>5</td>\n",
              "      <td>0</td>\n",
              "      <td>0.0</td>\n",
              "      <td>0.0</td>\n",
              "      <td>7510.500000</td>\n",
              "      <td>0.176000</td>\n",
              "      <td>0.0</td>\n",
              "      <td>1</td>\n",
              "      <td>0</td>\n",
              "      <td>0</td>\n",
              "      <td>0</td>\n",
              "      <td>0</td>\n",
              "      <td>1</td>\n",
              "      <td>0</td>\n",
              "      <td>0</td>\n",
              "      <td>0</td>\n",
              "      <td>0</td>\n",
              "      <td>0</td>\n",
              "    </tr>\n",
              "    <tr>\n",
              "      <th>00005222-b4d8-45a4-ad8c-186057e24233 : 070bcecb-aae7-4485-a26a-e0403e7bb6c5</th>\n",
              "      <td>18743.0</td>\n",
              "      <td>747</td>\n",
              "      <td>10.0</td>\n",
              "      <td>38072.0</td>\n",
              "      <td>751.92</td>\n",
              "      <td>26.2</td>\n",
              "      <td>32.0</td>\n",
              "      <td>9</td>\n",
              "      <td>0</td>\n",
              "      <td>0.0</td>\n",
              "      <td>0.0</td>\n",
              "      <td>3172.666667</td>\n",
              "      <td>0.236999</td>\n",
              "      <td>0.0</td>\n",
              "      <td>1</td>\n",
              "      <td>1</td>\n",
              "      <td>0</td>\n",
              "      <td>0</td>\n",
              "      <td>0</td>\n",
              "      <td>1</td>\n",
              "      <td>0</td>\n",
              "      <td>0</td>\n",
              "      <td>0</td>\n",
              "      <td>0</td>\n",
              "      <td>0</td>\n",
              "    </tr>\n",
              "    <tr>\n",
              "      <th>0000757f-a121-41ed-b17b-162e76647c1f : dde79588-12f0-4811-bab0-e2b07f633fcd</th>\n",
              "      <td>11731.0</td>\n",
              "      <td>746</td>\n",
              "      <td>4.0</td>\n",
              "      <td>50025.0</td>\n",
              "      <td>355.18</td>\n",
              "      <td>11.5</td>\n",
              "      <td>32.0</td>\n",
              "      <td>12</td>\n",
              "      <td>0</td>\n",
              "      <td>0.0</td>\n",
              "      <td>0.0</td>\n",
              "      <td>4168.750000</td>\n",
              "      <td>0.085201</td>\n",
              "      <td>0.0</td>\n",
              "      <td>1</td>\n",
              "      <td>0</td>\n",
              "      <td>1</td>\n",
              "      <td>0</td>\n",
              "      <td>0</td>\n",
              "      <td>1</td>\n",
              "      <td>0</td>\n",
              "      <td>0</td>\n",
              "      <td>0</td>\n",
              "      <td>0</td>\n",
              "      <td>0</td>\n",
              "    </tr>\n",
              "    <tr>\n",
              "      <th>...</th>\n",
              "      <td>...</td>\n",
              "      <td>...</td>\n",
              "      <td>...</td>\n",
              "      <td>...</td>\n",
              "      <td>...</td>\n",
              "      <td>...</td>\n",
              "      <td>...</td>\n",
              "      <td>...</td>\n",
              "      <td>...</td>\n",
              "      <td>...</td>\n",
              "      <td>...</td>\n",
              "      <td>...</td>\n",
              "      <td>...</td>\n",
              "      <td>...</td>\n",
              "      <td>...</td>\n",
              "      <td>...</td>\n",
              "      <td>...</td>\n",
              "      <td>...</td>\n",
              "      <td>...</td>\n",
              "      <td>...</td>\n",
              "      <td>...</td>\n",
              "      <td>...</td>\n",
              "      <td>...</td>\n",
              "      <td>...</td>\n",
              "      <td>...</td>\n",
              "    </tr>\n",
              "    <tr>\n",
              "      <th>fffe5140-8725-4fd1-b3bf-9e59cb7834eb : df856c29-ce44-4df7-94a6-bd758a1c1332</th>\n",
              "      <td>34710.0</td>\n",
              "      <td>700</td>\n",
              "      <td>9.0</td>\n",
              "      <td>148755.0</td>\n",
              "      <td>47.11</td>\n",
              "      <td>34.0</td>\n",
              "      <td>1.0</td>\n",
              "      <td>3</td>\n",
              "      <td>0</td>\n",
              "      <td>0.0</td>\n",
              "      <td>0.0</td>\n",
              "      <td>12396.250000</td>\n",
              "      <td>0.003800</td>\n",
              "      <td>0.0</td>\n",
              "      <td>1</td>\n",
              "      <td>0</td>\n",
              "      <td>1</td>\n",
              "      <td>0</td>\n",
              "      <td>0</td>\n",
              "      <td>0</td>\n",
              "      <td>0</td>\n",
              "      <td>0</td>\n",
              "      <td>0</td>\n",
              "      <td>0</td>\n",
              "      <td>0</td>\n",
              "    </tr>\n",
              "    <tr>\n",
              "      <th>fffe84cf-67a1-468d-ab7b-cf06a9c4ee14 : 460c6cf5-4d12-4e3c-a3d0-46dd67c78cce</th>\n",
              "      <td>11953.0</td>\n",
              "      <td>717</td>\n",
              "      <td>10.0</td>\n",
              "      <td>39844.0</td>\n",
              "      <td>982.82</td>\n",
              "      <td>11.7</td>\n",
              "      <td>32.0</td>\n",
              "      <td>9</td>\n",
              "      <td>1</td>\n",
              "      <td>1.0</td>\n",
              "      <td>0.0</td>\n",
              "      <td>3320.333333</td>\n",
              "      <td>0.296000</td>\n",
              "      <td>0.0</td>\n",
              "      <td>1</td>\n",
              "      <td>0</td>\n",
              "      <td>0</td>\n",
              "      <td>0</td>\n",
              "      <td>0</td>\n",
              "      <td>1</td>\n",
              "      <td>0</td>\n",
              "      <td>0</td>\n",
              "      <td>0</td>\n",
              "      <td>0</td>\n",
              "      <td>0</td>\n",
              "    </tr>\n",
              "    <tr>\n",
              "      <th>fffef5b7-be99-4666-ac70-2a397d2ee435 : 7211a8e3-cba4-4132-b939-222eed8a662c</th>\n",
              "      <td>3911.0</td>\n",
              "      <td>730</td>\n",
              "      <td>2.0</td>\n",
              "      <td>61242.0</td>\n",
              "      <td>1706.58</td>\n",
              "      <td>19.9</td>\n",
              "      <td>32.0</td>\n",
              "      <td>16</td>\n",
              "      <td>0</td>\n",
              "      <td>0.0</td>\n",
              "      <td>0.0</td>\n",
              "      <td>5103.500000</td>\n",
              "      <td>0.334394</td>\n",
              "      <td>0.0</td>\n",
              "      <td>1</td>\n",
              "      <td>0</td>\n",
              "      <td>1</td>\n",
              "      <td>0</td>\n",
              "      <td>0</td>\n",
              "      <td>1</td>\n",
              "      <td>0</td>\n",
              "      <td>0</td>\n",
              "      <td>0</td>\n",
              "      <td>0</td>\n",
              "      <td>0</td>\n",
              "    </tr>\n",
              "    <tr>\n",
              "      <th>ffffca93-aa8c-4123-b8ff-7852f6df889a : 616fef0c-8f09-4327-9b5c-48fcfaa52934</th>\n",
              "      <td>5078.0</td>\n",
              "      <td>737</td>\n",
              "      <td>10.0</td>\n",
              "      <td>77186.0</td>\n",
              "      <td>1376.47</td>\n",
              "      <td>19.1</td>\n",
              "      <td>47.0</td>\n",
              "      <td>9</td>\n",
              "      <td>0</td>\n",
              "      <td>0.0</td>\n",
              "      <td>0.0</td>\n",
              "      <td>6432.166667</td>\n",
              "      <td>0.213998</td>\n",
              "      <td>0.0</td>\n",
              "      <td>1</td>\n",
              "      <td>1</td>\n",
              "      <td>0</td>\n",
              "      <td>0</td>\n",
              "      <td>0</td>\n",
              "      <td>1</td>\n",
              "      <td>0</td>\n",
              "      <td>0</td>\n",
              "      <td>0</td>\n",
              "      <td>0</td>\n",
              "      <td>0</td>\n",
              "    </tr>\n",
              "    <tr>\n",
              "      <th>ffffe32e-ed17-459f-9cfd-7b9ee7972933 : 97281336-1e45-41d2-acb2-263ce56a590e</th>\n",
              "      <td>27902.0</td>\n",
              "      <td>678</td>\n",
              "      <td>10.0</td>\n",
              "      <td>117480.0</td>\n",
              "      <td>2525.82</td>\n",
              "      <td>18.0</td>\n",
              "      <td>11.0</td>\n",
              "      <td>10</td>\n",
              "      <td>0</td>\n",
              "      <td>0.0</td>\n",
              "      <td>0.0</td>\n",
              "      <td>9790.000000</td>\n",
              "      <td>0.258000</td>\n",
              "      <td>0.0</td>\n",
              "      <td>0</td>\n",
              "      <td>0</td>\n",
              "      <td>0</td>\n",
              "      <td>0</td>\n",
              "      <td>0</td>\n",
              "      <td>1</td>\n",
              "      <td>0</td>\n",
              "      <td>0</td>\n",
              "      <td>0</td>\n",
              "      <td>0</td>\n",
              "      <td>0</td>\n",
              "    </tr>\n",
              "  </tbody>\n",
              "</table>\n",
              "<p>201157 rows × 25 columns</p>\n",
              "</div>"
            ],
            "text/plain": [
              "                                                    Current Loan Amount  ...  Purpose_Take a Trip\n",
              "ID                                                                       ...                     \n",
              "000025bb-5694-4cff-b17d-192b1a98ba44 : 5ebc8bb1...              11520.0  ...                    0\n",
              "00002c49-3a29-4bd4-8f67-c8f8fbc1048c : 927b388d...               3441.0  ...                    0\n",
              "00002d89-27f3-409b-aa76-90834f359a65 : defce609...              21029.0  ...                    0\n",
              "00005222-b4d8-45a4-ad8c-186057e24233 : 070bcecb...              18743.0  ...                    0\n",
              "0000757f-a121-41ed-b17b-162e76647c1f : dde79588...              11731.0  ...                    0\n",
              "...                                                                 ...  ...                  ...\n",
              "fffe5140-8725-4fd1-b3bf-9e59cb7834eb : df856c29...              34710.0  ...                    0\n",
              "fffe84cf-67a1-468d-ab7b-cf06a9c4ee14 : 460c6cf5...              11953.0  ...                    0\n",
              "fffef5b7-be99-4666-ac70-2a397d2ee435 : 7211a8e3...               3911.0  ...                    0\n",
              "ffffca93-aa8c-4123-b8ff-7852f6df889a : 616fef0c...               5078.0  ...                    0\n",
              "ffffe32e-ed17-459f-9cfd-7b9ee7972933 : 97281336...              27902.0  ...                    0\n",
              "\n",
              "[201157 rows x 25 columns]"
            ]
          },
          "metadata": {
            "tags": []
          },
          "execution_count": 109
        }
      ]
    },
    {
      "cell_type": "code",
      "metadata": {
        "id": "0kxhHMKczQRH"
      },
      "source": [
        "X = X.drop(\"Annual Income\", axis=1)"
      ],
      "execution_count": null,
      "outputs": []
    },
    {
      "cell_type": "code",
      "metadata": {
        "scrolled": false,
        "colab": {
          "base_uri": "https://localhost:8080/"
        },
        "id": "K7LYb3wfzQRH",
        "outputId": "f4877822-a025-422d-cdc2-f12961bdf0bd"
      },
      "source": [
        "X.info()"
      ],
      "execution_count": null,
      "outputs": [
        {
          "output_type": "stream",
          "text": [
            "<class 'pandas.core.frame.DataFrame'>\n",
            "Index: 201157 entries, 000025bb-5694-4cff-b17d-192b1a98ba44 : 5ebc8bb1-5eb9-4404-b11b-a6eebc401a19 to ffffe32e-ed17-459f-9cfd-7b9ee7972933 : 97281336-1e45-41d2-acb2-263ce56a590e\n",
            "Data columns (total 24 columns):\n",
            " #   Column                        Non-Null Count   Dtype  \n",
            "---  ------                        --------------   -----  \n",
            " 0   Current Loan Amount           201157 non-null  float64\n",
            " 1   Credit Score                  201157 non-null  int16  \n",
            " 2   Years in current job          201157 non-null  float64\n",
            " 3   Monthly Debt                  201157 non-null  float64\n",
            " 4   Years of Credit History       201157 non-null  float64\n",
            " 5   Months since last delinquent  201157 non-null  float64\n",
            " 6   Number of Open Accounts       201157 non-null  uint8  \n",
            " 7   Number of Credit Problems     201157 non-null  uint8  \n",
            " 8   Bankruptcies                  201157 non-null  float64\n",
            " 9   Tax Liens                     201157 non-null  float64\n",
            " 10  Aylık Gelir                   201157 non-null  float64\n",
            " 11  Aylık Borç Oranı              201157 non-null  float64\n",
            " 12  Credit Utilization            201157 non-null  float64\n",
            " 13  Term_Short Term               201157 non-null  uint8  \n",
            " 14  Home Ownership_Own Home       201157 non-null  uint8  \n",
            " 15  Home Ownership_Rent           201157 non-null  uint8  \n",
            " 16  Purpose_Buy House             201157 non-null  uint8  \n",
            " 17  Purpose_Buy a Car             201157 non-null  uint8  \n",
            " 18  Purpose_Debt Consolidation    201157 non-null  uint8  \n",
            " 19  Purpose_Educational Expenses  201157 non-null  uint8  \n",
            " 20  Purpose_Home Improvements     201157 non-null  uint8  \n",
            " 21  Purpose_Medical Bills         201157 non-null  uint8  \n",
            " 22  Purpose_Other                 201157 non-null  uint8  \n",
            " 23  Purpose_Take a Trip           201157 non-null  uint8  \n",
            "dtypes: float64(10), int16(1), uint8(13)\n",
            "memory usage: 19.8+ MB\n"
          ],
          "name": "stdout"
        }
      ]
    },
    {
      "cell_type": "code",
      "metadata": {
        "id": "fGNuT2qrzQRH"
      },
      "source": [
        "from sklearn.metrics import accuracy_score, precision_score, recall_score, f1_score\n",
        "from sklearn.model_selection import train_test_split\n",
        "\n",
        "from sklearn.naive_bayes import GaussianNB\n",
        "from sklearn.naive_bayes import BernoulliNB\n",
        "from sklearn.ensemble import GradientBoostingClassifier\n",
        "from sklearn.neighbors import KNeighborsClassifier\n",
        "from sklearn.tree import DecisionTreeClassifier\n",
        "from sklearn.ensemble import RandomForestClassifier"
      ],
      "execution_count": null,
      "outputs": []
    },
    {
      "cell_type": "code",
      "metadata": {
        "id": "SHvzQ2SUzQRI"
      },
      "source": [
        "def AssessClassifierModels(TrainingDataColumns, TrainingDataResults, TestingDataColumns, TestingDataResults, Algorithms_List):\n",
        "    # results container\n",
        "    results_list = pd.DataFrame( columns = [\"Name\", \"Accuracy\", \"Precision\", \"Recall\", \"F1\"]) # Set index later to avoid empty row\n",
        "    model_list = pd.DataFrame(columns = [\"Name\", \"ModelData\"])\n",
        "    \n",
        "    # calculated metrics and append to list\n",
        "    for algorithm in Algorithms_List:\n",
        "        algorithmObject = algorithm()\n",
        "\n",
        "        algorithmObject.fit(TrainingDataColumns, TrainingDataResults)\n",
        "        \n",
        "        results_list = results_list.append({ \"Name\":  algorithm.__name__,\n",
        "                                             \"Accuracy\":  accuracy_score(TestingDataResults, algorithmObject.predict(TestingDataColumns)),\n",
        "                                             \"Precision\":  precision_score(TestingDataResults, algorithmObject.predict(TestingDataColumns)),\n",
        "                                             \"Recall\":  recall_score(TestingDataResults, algorithmObject.predict(TestingDataColumns)),\n",
        "                                             \"F1\":  f1_score(TestingDataResults, algorithmObject.predict(TestingDataColumns))\n",
        "                                            }, ignore_index = True)\n",
        "        model_list = model_list.append({ \"Name\" : algorithm.__name__,\n",
        "                                         \"ModelData\" : algorithmObject\n",
        "                                       }, ignore_index = True)\n",
        "\n",
        "    # Set index to a meaningful value\n",
        "    results_list.set_index(\"Name\")\n",
        "    return results_list.sort_values(\"F1\", ascending = False), model_list"
      ],
      "execution_count": null,
      "outputs": []
    },
    {
      "cell_type": "code",
      "metadata": {
        "scrolled": true,
        "colab": {
          "base_uri": "https://localhost:8080/",
          "height": 195
        },
        "id": "tAJS3pERzQRI",
        "outputId": "c66a7bf1-a471-4713-ed71-6a8cb39b61d3"
      },
      "source": [
        "x_train, x_test, y_train, y_test = train_test_split(X, y, test_size = 0.15, random_state = 36)\n",
        "\n",
        "modelResults_List, modelParameters_List = AssessClassifierModels(x_train, y_train, x_test, y_test, \n",
        "                                                                 [GaussianNB, BernoulliNB, KNeighborsClassifier, \n",
        "                                                               DecisionTreeClassifier, GradientBoostingClassifier])\n",
        "modelResults_List"
      ],
      "execution_count": null,
      "outputs": [
        {
          "output_type": "execute_result",
          "data": {
            "text/html": [
              "<div>\n",
              "<style scoped>\n",
              "    .dataframe tbody tr th:only-of-type {\n",
              "        vertical-align: middle;\n",
              "    }\n",
              "\n",
              "    .dataframe tbody tr th {\n",
              "        vertical-align: top;\n",
              "    }\n",
              "\n",
              "    .dataframe thead th {\n",
              "        text-align: right;\n",
              "    }\n",
              "</style>\n",
              "<table border=\"1\" class=\"dataframe\">\n",
              "  <thead>\n",
              "    <tr style=\"text-align: right;\">\n",
              "      <th></th>\n",
              "      <th>Name</th>\n",
              "      <th>Accuracy</th>\n",
              "      <th>Precision</th>\n",
              "      <th>Recall</th>\n",
              "      <th>F1</th>\n",
              "    </tr>\n",
              "  </thead>\n",
              "  <tbody>\n",
              "    <tr>\n",
              "      <th>1</th>\n",
              "      <td>BernoulliNB</td>\n",
              "      <td>0.812918</td>\n",
              "      <td>0.812918</td>\n",
              "      <td>1.000000</td>\n",
              "      <td>0.896806</td>\n",
              "    </tr>\n",
              "    <tr>\n",
              "      <th>4</th>\n",
              "      <td>GradientBoostingClassifier</td>\n",
              "      <td>0.813813</td>\n",
              "      <td>0.818249</td>\n",
              "      <td>0.991113</td>\n",
              "      <td>0.896423</td>\n",
              "    </tr>\n",
              "    <tr>\n",
              "      <th>0</th>\n",
              "      <td>GaussianNB</td>\n",
              "      <td>0.791609</td>\n",
              "      <td>0.828726</td>\n",
              "      <td>0.937380</td>\n",
              "      <td>0.879711</td>\n",
              "    </tr>\n",
              "    <tr>\n",
              "      <th>2</th>\n",
              "      <td>KNeighborsClassifier</td>\n",
              "      <td>0.781534</td>\n",
              "      <td>0.819630</td>\n",
              "      <td>0.937584</td>\n",
              "      <td>0.874648</td>\n",
              "    </tr>\n",
              "    <tr>\n",
              "      <th>3</th>\n",
              "      <td>DecisionTreeClassifier</td>\n",
              "      <td>0.724398</td>\n",
              "      <td>0.834938</td>\n",
              "      <td>0.823841</td>\n",
              "      <td>0.829352</td>\n",
              "    </tr>\n",
              "  </tbody>\n",
              "</table>\n",
              "</div>"
            ],
            "text/plain": [
              "                         Name  Accuracy  Precision    Recall        F1\n",
              "1                 BernoulliNB  0.812918   0.812918  1.000000  0.896806\n",
              "4  GradientBoostingClassifier  0.813813   0.818249  0.991113  0.896423\n",
              "0                  GaussianNB  0.791609   0.828726  0.937380  0.879711\n",
              "2        KNeighborsClassifier  0.781534   0.819630  0.937584  0.874648\n",
              "3      DecisionTreeClassifier  0.724398   0.834938  0.823841  0.829352"
            ]
          },
          "metadata": {
            "tags": []
          },
          "execution_count": 114
        }
      ]
    },
    {
      "cell_type": "markdown",
      "metadata": {
        "id": "81e-ivCG7REm"
      },
      "source": [
        "Yukarıdaki tabloda 5 farklı algoritma ve sonuçları gözükmektedir. En yüksek başarı oranını %81.38 ile GradientBoostingClassifier algoritması sağlamıştır."
      ]
    },
    {
      "cell_type": "markdown",
      "metadata": {
        "id": "E1WMdTM5zQRI"
      },
      "source": [
        "### Yeni Müşteri Ekleme kısmı"
      ]
    },
    {
      "cell_type": "code",
      "metadata": {
        "id": "rr3KLL3pzQRI"
      },
      "source": [
        "yenimusteri_x = yenimusteri_x.drop(\"Annual Income\", axis=1)"
      ],
      "execution_count": null,
      "outputs": []
    },
    {
      "cell_type": "code",
      "metadata": {
        "id": "dab1xPBjzQRJ"
      },
      "source": [
        "from sklearn.naive_bayes import BernoulliNB\n",
        "bnb = BernoulliNB()\n",
        "\n",
        "y = df_new[\"Loan Status\"]\n",
        "X = df_new.drop(\"Loan Status\", axis=1)\n",
        "regmodel = bnb.fit(X, y)"
      ],
      "execution_count": null,
      "outputs": []
    },
    {
      "cell_type": "code",
      "metadata": {
        "colab": {
          "base_uri": "https://localhost:8080/"
        },
        "id": "jJyAqcfhzQRJ",
        "outputId": "df345f6b-5914-42b3-d46b-7b778e0cdff2"
      },
      "source": [
        "y_pretest = regmodel.predict(yenimusteri_x)\n",
        "y_pretest"
      ],
      "execution_count": null,
      "outputs": [
        {
          "output_type": "execute_result",
          "data": {
            "text/plain": [
              "array([1, 1, 1, 1, 1, 1, 1, 1, 1], dtype=uint8)"
            ]
          },
          "metadata": {
            "tags": []
          },
          "execution_count": 117
        }
      ]
    },
    {
      "cell_type": "markdown",
      "metadata": {
        "id": "ODu9HcIx7EDF"
      },
      "source": [
        "Yukarıda 9 yeni müşteri eklemesi yaptık. Bu müşterilerin sütun özelliklerini Load Status'leri 1 olacak şekilde ayarladık. Makine hepsini doğru bir şekilde tahmin etti."
      ]
    },
    {
      "cell_type": "markdown",
      "metadata": {
        "id": "-D1pkt5jzQRJ"
      },
      "source": [
        "### Conf matrix"
      ]
    },
    {
      "cell_type": "code",
      "metadata": {
        "colab": {
          "base_uri": "https://localhost:8080/"
        },
        "id": "ge0i5ZajzQRJ",
        "outputId": "d65272c9-02d5-4a33-fda3-e6486b497c09"
      },
      "source": [
        "regmodel2 = bnb.fit(x_train, y_train)\n",
        "y_pretest = regmodel2.predict(x_test)\n",
        "y_pretest"
      ],
      "execution_count": null,
      "outputs": [
        {
          "output_type": "execute_result",
          "data": {
            "text/plain": [
              "array([1, 1, 1, ..., 1, 1, 1], dtype=uint8)"
            ]
          },
          "metadata": {
            "tags": []
          },
          "execution_count": 118
        }
      ]
    },
    {
      "cell_type": "code",
      "metadata": {
        "colab": {
          "base_uri": "https://localhost:8080/"
        },
        "id": "W8SMA3E_zQRK",
        "outputId": "bb9bc7af-358a-47ab-bcf0-bbe640b6b8c3"
      },
      "source": [
        "confusion_matrix(y_test, y_pretest)"
      ],
      "execution_count": null,
      "outputs": [
        {
          "output_type": "execute_result",
          "data": {
            "text/plain": [
              "array([[    0,  5645],\n",
              "       [    0, 24529]])"
            ]
          },
          "metadata": {
            "tags": []
          },
          "execution_count": 119
        }
      ]
    },
    {
      "cell_type": "code",
      "metadata": {
        "id": "fHALGymZzQRK"
      },
      "source": [
        "from sklearn.metrics import confusion_matrix\n",
        "from sklearn.metrics import plot_confusion_matrix"
      ],
      "execution_count": null,
      "outputs": []
    },
    {
      "cell_type": "code",
      "metadata": {
        "colab": {
          "base_uri": "https://localhost:8080/",
          "height": 404
        },
        "id": "KEtEcg13zQRK",
        "outputId": "642abb4e-7f7e-4560-820a-39974c905e87"
      },
      "source": [
        "matrix = plot_confusion_matrix(bnb, x_test, y_test)\n",
        "matrix.ax_.set_title(\"Confusion Matrix\", color=\"white\")\n",
        "plt.xlabel(\"Predicted Label\", color=\"white\")\n",
        "plt.ylabel(\"True Label\", color=\"white\")\n",
        "plt.gcf().axes[0].tick_params(colors = \"white\")\n",
        "plt.gcf().axes[1].tick_params(colors = \"white\")\n",
        "plt.gcf().set_size_inches(10, 6)\n",
        "plt.show()"
      ],
      "execution_count": null,
      "outputs": [
        {
          "output_type": "display_data",
          "data": {
            "image/png": "[encoded data removed]",
            "text/plain": [
              "<Figure size 720x432 with 2 Axes>"
            ]
          },
          "metadata": {
            "tags": [],
            "needs_background": "dark"
          }
        }
      ]
    },
    {
      "cell_type": "markdown",
      "metadata": {
        "id": "NbdkkjZx6Q7y"
      },
      "source": [
        "## K-Fold Cross Validation"
      ]
    },
    {
      "cell_type": "code",
      "metadata": {
        "colab": {
          "base_uri": "https://localhost:8080/"
        },
        "id": "dMPmGL9A6tYu",
        "outputId": "a7e13e41-6ae8-4a5b-de21-58f9bbddc919"
      },
      "source": [
        "from sklearn.model_selection import cross_val_score\n",
        "acc= cross_val_score(bnb,X,y,cv=10)\n",
        "acc"
      ],
      "execution_count": null,
      "outputs": [
        {
          "output_type": "execute_result",
          "data": {
            "text/plain": [
              "array([0.81611652, 0.81606681, 0.81606681, 0.81606681, 0.81606681,\n",
              "       0.81606681, 0.81606681, 0.81610738, 0.81610738, 0.81595824])"
            ]
          },
          "metadata": {
            "tags": []
          },
          "execution_count": 126
        }
      ]
    },
    {
      "cell_type": "markdown",
      "metadata": {
        "id": "bmCNpzEx6woe"
      },
      "source": [
        "Görüldüğü üzere verisetini 10 parçaya ayırıp öğrenme işlemi uyguladığımız zaman da başarı oranlarımız yüzde 81 civarlarında. Bu da sağlıklı ve doğru bir makine öğrenmesi işlemi uyguladığımızı gösteriyor."
      ]
    },
    {
      "cell_type": "markdown",
      "metadata": {
        "id": "duamwgUTzQRK"
      },
      "source": [
        "## Deep Learning ile Tahmin "
      ]
    },
    {
      "cell_type": "code",
      "metadata": {
        "id": "ehuX7chGzQRL"
      },
      "source": [
        "# Import necessary modules\n",
        "from sklearn.model_selection import train_test_split\n",
        "from sklearn.metrics import mean_squared_error\n",
        "from math import sqrt\n",
        "\n",
        "# Keras specific\n",
        "import keras\n",
        "from keras.models import Sequential\n",
        "from keras.layers import Dense\n",
        "from keras.utils import to_categorical"
      ],
      "execution_count": null,
      "outputs": []
    },
    {
      "cell_type": "code",
      "metadata": {
        "colab": {
          "base_uri": "https://localhost:8080/"
        },
        "id": "Z2g4LwmOzQRL",
        "outputId": "eff3b4c8-2cc3-487d-aa17-dbaf85dba4f2"
      },
      "source": [
        "X_train, X_test, y_train, y_test = train_test_split(X, y, test_size=0.30, random_state=40)\n",
        "print(X_train.shape); print(X_test.shape)"
      ],
      "execution_count": null,
      "outputs": [
        {
          "output_type": "stream",
          "text": [
            "(140809, 25)\n",
            "(60348, 25)\n"
          ],
          "name": "stdout"
        }
      ]
    },
    {
      "cell_type": "code",
      "metadata": {
        "id": "4xnJ4ug4zQRL"
      },
      "source": [
        "model = Sequential()\n",
        "model.add(Dense(100, activation='relu'))\n",
        "model.add(Dense(30, activation='relu'))\n",
        "model.add(Dense(10, activation='relu'))\n",
        "model.add(Dense(3, activation='relu'))\n",
        "model.add(Dense(1, activation='softmax'))\n",
        "\n",
        "# Compile the model\n",
        "model.compile(optimizer='adam', \n",
        "              loss='categorical_crossentropy', \n",
        "              metrics=['accuracy'])"
      ],
      "execution_count": null,
      "outputs": []
    },
    {
      "cell_type": "code",
      "metadata": {
        "colab": {
          "base_uri": "https://localhost:8080/"
        },
        "id": "plqKfsmuzQRL",
        "outputId": "0783b3ed-025b-4fa3-ed35-44161e795e06"
      },
      "source": [
        "model.fit(X_train, y_train, epochs=20)"
      ],
      "execution_count": null,
      "outputs": [
        {
          "output_type": "stream",
          "text": [
            "Epoch 1/20\n",
            "4401/4401 [==============================] - 7s 1ms/step - loss: 0.0000e+00 - accuracy: 0.8168\n",
            "Epoch 2/20\n",
            "4401/4401 [==============================] - 6s 1ms/step - loss: 0.0000e+00 - accuracy: 0.8163\n",
            "Epoch 3/20\n",
            "4401/4401 [==============================] - 6s 1ms/step - loss: 0.0000e+00 - accuracy: 0.8168\n",
            "Epoch 4/20\n",
            "4401/4401 [==============================] - 6s 1ms/step - loss: 0.0000e+00 - accuracy: 0.8177\n",
            "Epoch 5/20\n",
            "4401/4401 [==============================] - 6s 1ms/step - loss: 0.0000e+00 - accuracy: 0.8173\n",
            "Epoch 6/20\n",
            "4401/4401 [==============================] - 6s 1ms/step - loss: 0.0000e+00 - accuracy: 0.8159\n",
            "Epoch 7/20\n",
            "4401/4401 [==============================] - 6s 1ms/step - loss: 0.0000e+00 - accuracy: 0.8158\n",
            "Epoch 8/20\n",
            "4401/4401 [==============================] - 6s 1ms/step - loss: 0.0000e+00 - accuracy: 0.8163\n",
            "Epoch 9/20\n",
            "4401/4401 [==============================] - 7s 1ms/step - loss: 0.0000e+00 - accuracy: 0.8163\n",
            "Epoch 10/20\n",
            "4401/4401 [==============================] - 6s 1ms/step - loss: 0.0000e+00 - accuracy: 0.8172\n",
            "Epoch 11/20\n",
            "4401/4401 [==============================] - 6s 1ms/step - loss: 0.0000e+00 - accuracy: 0.8158\n",
            "Epoch 12/20\n",
            "4401/4401 [==============================] - 6s 1ms/step - loss: 0.0000e+00 - accuracy: 0.8170\n",
            "Epoch 13/20\n",
            "4401/4401 [==============================] - 6s 1ms/step - loss: 0.0000e+00 - accuracy: 0.8162\n",
            "Epoch 14/20\n",
            "4401/4401 [==============================] - 6s 1ms/step - loss: 0.0000e+00 - accuracy: 0.8158\n",
            "Epoch 15/20\n",
            "4401/4401 [==============================] - 6s 1ms/step - loss: 0.0000e+00 - accuracy: 0.8166\n",
            "Epoch 16/20\n",
            "4401/4401 [==============================] - 6s 1ms/step - loss: 0.0000e+00 - accuracy: 0.8182\n",
            "Epoch 17/20\n",
            "4401/4401 [==============================] - 7s 1ms/step - loss: 0.0000e+00 - accuracy: 0.8174\n",
            "Epoch 18/20\n",
            "4401/4401 [==============================] - 6s 1ms/step - loss: 0.0000e+00 - accuracy: 0.8182\n",
            "Epoch 19/20\n",
            "4401/4401 [==============================] - 6s 1ms/step - loss: 0.0000e+00 - accuracy: 0.8183\n",
            "Epoch 20/20\n",
            "4401/4401 [==============================] - 6s 1ms/step - loss: 0.0000e+00 - accuracy: 0.8172\n"
          ],
          "name": "stdout"
        },
        {
          "output_type": "execute_result",
          "data": {
            "text/plain": [
              "<tensorflow.python.keras.callbacks.History at 0x7fb2fdd41090>"
            ]
          },
          "metadata": {
            "tags": []
          },
          "execution_count": 125
        }
      ]
    }
  ]
}